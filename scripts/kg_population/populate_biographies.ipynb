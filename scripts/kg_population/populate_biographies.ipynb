{
 "cells": [
  {
   "cell_type": "code",
   "execution_count": 48,
   "id": "initial_id",
   "metadata": {
    "collapsed": true,
    "ExecuteTime": {
     "end_time": "2024-05-15T13:30:39.488564Z",
     "start_time": "2024-05-15T13:30:39.483962Z"
    }
   },
   "outputs": [],
   "source": [
    "import glob\n",
    "import re\n",
    "import pandas as pd\n",
    "import owlready2 "
   ]
  },
  {
   "cell_type": "code",
   "outputs": [],
   "source": [
    "# Dictionary to track acronyms and their counts\n",
    "acronym_counts = {}\n"
   ],
   "metadata": {
    "collapsed": false,
    "ExecuteTime": {
     "end_time": "2024-05-15T13:30:39.921170Z",
     "start_time": "2024-05-15T13:30:39.918126Z"
    }
   },
   "id": "7eebd0211d2c01a4",
   "execution_count": 49
  },
  {
   "cell_type": "code",
   "outputs": [],
   "source": [
    "# Function to create acronym and handle duplicates\n",
    "def create_acronym(full_name):\n",
    "    # Remove content inside square brackets\n",
    "    name_without_brackets = re.match(r'^[^\\[]+', full_name).group().strip()\n",
    "    \n",
    "    # Split name into parts\n",
    "    name_parts = name_without_brackets.split()\n",
    "    \n",
    "    # Create acronym\n",
    "    acronym = \"LO\" + ''.join(part[0] for part in name_parts).upper()\n",
    "    \n",
    "    # Handle duplicates\n",
    "    if acronym in acronym_counts:\n",
    "        acronym_counts[acronym] += 1\n",
    "        acronym = f\"{acronym}_{acronym_counts[acronym]}\"\n",
    "    else:\n",
    "        acronym_counts[acronym] = 0\n",
    "    \n",
    "    return acronym"
   ],
   "metadata": {
    "collapsed": false,
    "ExecuteTime": {
     "end_time": "2024-05-15T13:30:41.093413Z",
     "start_time": "2024-05-15T13:30:41.088857Z"
    }
   },
   "id": "9d83c4748f2bbf13",
   "execution_count": 50
  },
  {
   "cell_type": "code",
   "outputs": [],
   "source": [
    "for file in glob.glob('../../data/biographies/ranges/*.csv'):\n",
    "    df = pd.read_csv(file)\n",
    "    for index, row in df.iterrows():\n",
    "        if re.match(r'^\\d+-\\d+$', row['Page Range']):\n",
    "            if row['Name'] not in [\n",
    "                \"The Author's Preface to the Second Part\",\n",
    "                \"Index of Names\",\n",
    "                \"The Author's Preface to the Third Part\",\n",
    "                \"Academicians of Design, Painters, Sculptors, and Architects\",\n",
    "                \"Description of the Festive Preparations for the Nuptials of the Prince Don Francesco of Tuscany\"\n",
    "            ]:\n",
    "                df.loc[df['Name'] == row['Name'], 'bibliography_acronym'] = create_acronym(row['Name'])\n",
    "    df.to_csv(file)"
   ],
   "metadata": {
    "collapsed": false,
    "ExecuteTime": {
     "end_time": "2024-05-15T13:30:44.866233Z",
     "start_time": "2024-05-15T13:30:44.724538Z"
    }
   },
   "id": "380d09ab9bfbba44",
   "execution_count": 51
  },
  {
   "cell_type": "code",
   "outputs": [
    {
     "data": {
      "text/plain": "   Unnamed: 0                                               Name Page Range  \\\n0           0  Academicians of Design, Painters, Sculptors, a...       3-36   \n1           1  Description of the Festive Preparations for th...     37-170   \n2           2                                     Giorgio Vasari    171-226   \n3           3                                     Index of Names    227-230   \n\n  bibliography_acronym  \n0                  NaN  \n1                  NaN  \n2               LOGV_1  \n3                  NaN  ",
      "text/html": "<div>\n<style scoped>\n    .dataframe tbody tr th:only-of-type {\n        vertical-align: middle;\n    }\n\n    .dataframe tbody tr th {\n        vertical-align: top;\n    }\n\n    .dataframe thead th {\n        text-align: right;\n    }\n</style>\n<table border=\"1\" class=\"dataframe\">\n  <thead>\n    <tr style=\"text-align: right;\">\n      <th></th>\n      <th>Unnamed: 0</th>\n      <th>Name</th>\n      <th>Page Range</th>\n      <th>bibliography_acronym</th>\n    </tr>\n  </thead>\n  <tbody>\n    <tr>\n      <th>0</th>\n      <td>0</td>\n      <td>Academicians of Design, Painters, Sculptors, a...</td>\n      <td>3-36</td>\n      <td>NaN</td>\n    </tr>\n    <tr>\n      <th>1</th>\n      <td>1</td>\n      <td>Description of the Festive Preparations for th...</td>\n      <td>37-170</td>\n      <td>NaN</td>\n    </tr>\n    <tr>\n      <th>2</th>\n      <td>2</td>\n      <td>Giorgio Vasari</td>\n      <td>171-226</td>\n      <td>LOGV_1</td>\n    </tr>\n    <tr>\n      <th>3</th>\n      <td>3</td>\n      <td>Index of Names</td>\n      <td>227-230</td>\n      <td>NaN</td>\n    </tr>\n  </tbody>\n</table>\n</div>"
     },
     "execution_count": 47,
     "metadata": {},
     "output_type": "execute_result"
    }
   ],
   "source": [
    "df"
   ],
   "metadata": {
    "collapsed": false,
    "ExecuteTime": {
     "end_time": "2024-05-15T13:30:08.421503Z",
     "start_time": "2024-05-15T13:30:08.415164Z"
    }
   },
   "id": "45ba472d4ec622d9",
   "execution_count": 47
  },
  {
   "cell_type": "code",
   "outputs": [],
   "source": [],
   "metadata": {
    "collapsed": false
   },
   "id": "b1e70d20a91cc9a"
  }
 ],
 "metadata": {
  "kernelspec": {
   "display_name": "Python 3",
   "language": "python",
   "name": "python3"
  },
  "language_info": {
   "codemirror_mode": {
    "name": "ipython",
    "version": 2
   },
   "file_extension": ".py",
   "mimetype": "text/x-python",
   "name": "python",
   "nbconvert_exporter": "python",
   "pygments_lexer": "ipython2",
   "version": "2.7.6"
  }
 },
 "nbformat": 4,
 "nbformat_minor": 5
}
