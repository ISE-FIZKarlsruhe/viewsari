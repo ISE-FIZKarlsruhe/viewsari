{
 "cells": [
  {
   "cell_type": "code",
   "execution_count": 1,
   "id": "initial_id",
   "metadata": {
    "collapsed": true,
    "ExecuteTime": {
     "end_time": "2024-01-10T08:08:56.921916Z",
     "start_time": "2024-01-10T08:08:56.914482Z"
    }
   },
   "outputs": [],
   "source": [
    "import glob\n",
    "import json"
   ]
  },
  {
   "cell_type": "code",
   "execution_count": 26,
   "outputs": [
    {
     "name": "stdout",
     "output_type": "stream",
     "text": [
      "1074\n"
     ]
    }
   ],
   "source": [
    "person_index = set()\n",
    "for file in glob.glob('../data/indices_raw/*.json'):\n",
    "    index_json = json.load(open(file, 'r'))\n",
    "    # i = 1\n",
    "    # for key in set(index_json.keys()):\n",
    "    #     print(key)\n",
    "    #     print(i)\n",
    "    #     i += 1\n",
    "        \n",
    "    person_index.update(set(index_json.keys()))\n",
    "    \n",
    "print(len(person_index))"
   ],
   "metadata": {
    "collapsed": false,
    "ExecuteTime": {
     "end_time": "2024-01-10T13:14:51.922701Z",
     "start_time": "2024-01-10T13:14:51.896646Z"
    }
   },
   "id": "1b3758e8b4686f73"
  },
  {
   "cell_type": "code",
   "execution_count": null,
   "outputs": [],
   "source": [],
   "metadata": {
    "collapsed": false
   },
   "id": "24db9c4ed796cd82"
  }
 ],
 "metadata": {
  "kernelspec": {
   "display_name": "Python 3",
   "language": "python",
   "name": "python3"
  },
  "language_info": {
   "codemirror_mode": {
    "name": "ipython",
    "version": 2
   },
   "file_extension": ".py",
   "mimetype": "text/x-python",
   "name": "python",
   "nbconvert_exporter": "python",
   "pygments_lexer": "ipython2",
   "version": "2.7.6"
  }
 },
 "nbformat": 4,
 "nbformat_minor": 5
}
