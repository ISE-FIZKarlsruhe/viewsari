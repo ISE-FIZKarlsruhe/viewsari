{
 "cells": [
  {
   "cell_type": "code",
   "execution_count": 19,
   "id": "initial_id",
   "metadata": {
    "collapsed": true,
    "ExecuteTime": {
     "end_time": "2024-01-22T08:04:34.468836Z",
     "start_time": "2024-01-22T08:04:34.461305Z"
    }
   },
   "outputs": [],
   "source": [
    "import glob\n",
    "import json\n",
    "import os.path\n",
    "\n",
    "import pandas as pd"
   ]
  },
  {
   "cell_type": "code",
   "execution_count": null,
   "outputs": [],
   "source": [
    "person_index = set()\n",
    "for file in glob.glob('../data/indices_raw/*.json'):\n",
    "    index_json = json.load(open(file, 'r'))\n",
    "    print(os.path.basename(file))\n",
    "    i = 1\n",
    "    for key in set(index_json.keys()):\n",
    "        print(key)\n",
    "        print(i)\n",
    "        i += 1\n",
    "        \n",
    "    person_index.update(set(index_json.keys()))\n",
    "    \n",
    "print(len(person_index))"
   ],
   "metadata": {
    "collapsed": false
   },
   "id": "1b3758e8b4686f73"
  },
  {
   "cell_type": "code",
   "execution_count": 17,
   "outputs": [],
   "source": [
    "person_index_co = set()\n",
    "for f in glob.glob('../data/results/pmi_tables/9.csv'):\n",
    "    df = pd.read_csv(f)\n",
    "    p = pd.concat([df['x'],df['y']]).drop_duplicates().reset_index(drop=True)\n",
    "    p.dropna()\n",
    "    #person_index.update(set(index_json.keys()))\n",
    "    p.to_csv('new.csv')   \n",
    "#print(len(person_index))"
   ],
   "metadata": {
    "collapsed": false,
    "ExecuteTime": {
     "end_time": "2024-01-22T08:00:19.247207Z",
     "start_time": "2024-01-22T08:00:19.174463Z"
    }
   },
   "id": "ea97f31aa9fd1539"
  },
  {
   "cell_type": "code",
   "execution_count": null,
   "outputs": [],
   "source": [
    "for person in person_index:\n",
    "    if not person in p.unique():\n",
    "        print(person)\n"
   ],
   "metadata": {
    "collapsed": false
   },
   "id": "942e8382266d6d0"
  },
  {
   "cell_type": "code",
   "execution_count": null,
   "outputs": [],
   "source": [],
   "metadata": {
    "collapsed": false
   },
   "id": "5810bb809c41db9f"
  }
 ],
 "metadata": {
  "kernelspec": {
   "display_name": "Python 3",
   "language": "python",
   "name": "python3"
  },
  "language_info": {
   "codemirror_mode": {
    "name": "ipython",
    "version": 2
   },
   "file_extension": ".py",
   "mimetype": "text/x-python",
   "name": "python",
   "nbconvert_exporter": "python",
   "pygments_lexer": "ipython2",
   "version": "2.7.6"
  }
 },
 "nbformat": 4,
 "nbformat_minor": 5
}
