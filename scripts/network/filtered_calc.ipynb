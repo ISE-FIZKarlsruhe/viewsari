{
 "cells": [
  {
   "cell_type": "code",
   "execution_count": null,
   "id": "initial_id",
   "metadata": {
    "collapsed": true
   },
   "outputs": [],
   "source": [
    "import pandas as pd\n",
    "from itertools import combinations\n",
    "from collections import Counter\n",
    "import math"
   ]
  },
  {
   "cell_type": "code",
   "outputs": [],
   "source": [
    "df_ranges = pd.read_csv(\n",
    "    '../data/biographies/ranges/biography_page_ranges_I.csv')\n",
    "df_data = pd.read_csv('../data/references/0.csv')"
   ],
   "metadata": {
    "collapsed": false
   },
   "id": "f0620d68db11778e",
   "execution_count": null
  },
  {
   "cell_type": "code",
   "outputs": [],
   "source": [
    "df_ranges[['Start Page', 'End Page']] = df_ranges['Page Range'].str.extract(r'(\\d+)-(\\d+)')\n",
    "# Convert start and end page numbers to integers\n",
    "df_ranges['Start Page'] = pd.to_numeric(df_ranges['Start Page'], errors='coerce').astype('Int64')\n",
    "df_ranges['End Page'] = pd.to_numeric(df_ranges['End Page'], errors='coerce').astype('Int64')\n",
    "\n",
    "df_data['page'] = pd.to_numeric(df_data['page'], errors='coerce').astype('Int64')\n",
    "df_data['paragraph'] = pd.to_numeric(df_data['paragraph'], errors='coerce').astype('Int64')"
   ],
   "metadata": {
    "collapsed": false
   },
   "id": "52015baa5dfb21f1",
   "execution_count": null
  },
  {
   "cell_type": "code",
   "outputs": [],
   "source": [
    "def expand_range(start_page, end_page):\n",
    "    if pd.notna(start_page) and pd.notna(end_page):\n",
    "        return list(range(int(start_page), int(end_page) + 1))\n",
    "    else:\n",
    "        return []\n",
    "\n",
    "df_ranges['Page'] = df_ranges.apply(lambda row: expand_range(row['Start Page'], row['End Page']), axis=1)\n",
    "\n",
    "df_expanded = df_ranges.explode('Page')\n",
    "\n",
    "df_expanded"
   ],
   "metadata": {
    "collapsed": false
   },
   "id": "8adb28c371df1af1",
   "execution_count": null
  },
  {
   "cell_type": "code",
   "outputs": [],
   "source": [
    "merged_df = pd.merge(df_data, df_expanded, how='left', left_on='page', right_on='Page')\n",
    "merged_df.drop(columns=['Page'], inplace=True)\n",
    "\n",
    "merged_df"
   ],
   "metadata": {
    "collapsed": false
   },
   "id": "28eb73f4c10d8593",
   "execution_count": null
  },
  {
   "cell_type": "code",
   "outputs": [],
   "source": [
    "subdfs = {name: group for name, group in merged_df.groupby('Name')}"
   ],
   "metadata": {
    "collapsed": false
   },
   "id": "a3bf86e534e56817",
   "execution_count": null
  },
  {
   "cell_type": "code",
   "outputs": [],
   "source": [
    "subdfs"
   ],
   "metadata": {
    "collapsed": false
   },
   "id": "b2e35691d9b155de",
   "execution_count": null
  },
  {
   "cell_type": "code",
   "outputs": [],
   "source": [
    "def dice_coefficient(artist1, artist2, df):\n",
    "    # Group the dataframe by paragraph and get the set of artists for each paragraph\n",
    "    grouped = df.groupby('paragraph').agg({'index_name': set, 'page': 'first'})\n",
    "\n",
    "    # Count the number of paragraphs where each artist appears\n",
    "    artist1_paragraphs = Counter()\n",
    "    artist2_paragraphs = Counter()\n",
    "    shared_paragraphs = []\n",
    "\n",
    "    for paragraph, row in grouped.iterrows():\n",
    "        artists = row['index_name']\n",
    "        page = row['page']\n",
    "        if artist1 in artists and artist2 in artists:\n",
    "            shared_paragraphs.append((page, paragraph))\n",
    "        if artist1 in artists:\n",
    "            artist1_paragraphs[paragraph] += 1\n",
    "        if artist2 in artists:\n",
    "            artist2_paragraphs[paragraph] += 1\n",
    "\n",
    "    # Calculate the Dice coefficient\n",
    "    numerator = 2 * len(shared_paragraphs)\n",
    "    denominator = sum(artist1_paragraphs.values()) + sum(artist2_paragraphs.values())\n",
    "    dice = numerator / denominator if denominator > 0 else 0\n",
    "    return dice, shared_paragraphs"
   ],
   "metadata": {
    "collapsed": false
   },
   "id": "83a09c1dd1391e5d",
   "execution_count": null
  },
  {
   "cell_type": "code",
   "outputs": [],
   "source": [
    "def calculate_dice_coefficients(df):\n",
    "    artist_names = df['index_name'].unique()\n",
    "    dice_coefficients = {}\n",
    "\n",
    "    # Iterate over all combinations of unique artist names\n",
    "    for artist1, artist2 in combinations(artist_names, 2):\n",
    "        # Calculate the Dice coefficient for the pair\n",
    "        dice, shared_paragraphs = dice_coefficient(artist1, artist2, df)\n",
    "        # Store the coefficient and shared paragraphs in the dictionary\n",
    "        dice_coefficients[(artist1, artist2)] = {'coefficient': dice, 'shared_paragraphs': shared_paragraphs}\n",
    "\n",
    "    return dice_coefficients\n"
   ],
   "metadata": {
    "collapsed": false
   },
   "id": "1a572cb54e10be6e"
  },
  {
   "cell_type": "code",
   "outputs": [],
   "source": [
    "for name, sub_df in subdfs.items():\n",
    "    print(f\"Name: {name}\")\n",
    "    dice_coefficients = calculate_dice_coefficients(sub_df)\n",
    "    # Create a list to store the rows of the DataFrame\n",
    "    rows = []\n",
    "    # Populate the list with the calculated values\n",
    "    for pair, info in dice_coefficients.items():\n",
    "        artist1, artist2 = pair\n",
    "        dice_coefficient_value = info['coefficient']\n",
    "        if dice_coefficient_value > 0.0:  # Filter out values <= 0.0\n",
    "            shared_paragraphs = info['shared_paragraphs']\n",
    "            for page, paragraph in shared_paragraphs:\n",
    "                rows.append(\n",
    "                    {'Artist 1': artist1, 'Artist 2': artist2, 'Dice Coefficient': dice_coefficient_value, 'Page': page,\n",
    "                     'Paragraph': paragraph})\n",
    "            # Create a DataFrame from the list of rows\n",
    "            result_df = pd.DataFrame(rows)\n",
    "            # Save the DataFrame to a CSV file named after the artist\n",
    "            result_df.to_csv(f\"../data/biographies/dice/{name}_dice_coefficients.csv\", index=False)"
   ],
   "metadata": {
    "collapsed": false
   },
   "id": "b7593799055796b"
  },
  {
   "cell_type": "code",
   "outputs": [],
   "source": [
    "def calculate_pmi(artist1, artist2, df):\n",
    "    # Group the dataframe by paragraph and get the set of artists for each paragraph\n",
    "    grouped = df.groupby(['page', 'paragraph'])['index_name'].apply(set)\n",
    "\n",
    "    # Count the number of paragraphs where each artist appears\n",
    "    artist1_paragraphs = Counter()\n",
    "    artist2_paragraphs = Counter()\n",
    "    shared_paragraphs = Counter()\n",
    "    total_paragraphs = len(grouped)\n",
    "\n",
    "    for (page, paragraph), artists in grouped.items():\n",
    "        if artist1 in artists and artist2 in artists:\n",
    "            shared_paragraphs[(page, paragraph)] += 1\n",
    "        if artist1 in artists:\n",
    "            artist1_paragraphs[(page, paragraph)] += 1\n",
    "        if artist2 in artists:\n",
    "            artist2_paragraphs[(page, paragraph)] += 1\n",
    "\n",
    "    # Calculate the PMI\n",
    "    p_artist1 = sum(artist1_paragraphs.values()) / total_paragraphs\n",
    "    p_artist2 = sum(artist2_paragraphs.values()) / total_paragraphs\n",
    "    p_both = sum(shared_paragraphs.values()) / total_paragraphs\n",
    "\n",
    "    # Handle zero probability cases\n",
    "    if p_artist1 == 0 or p_artist2 == 0 or p_both == 0:\n",
    "        pmi = float('-inf')\n",
    "    else:\n",
    "        pmi = math.log2(p_both / (p_artist1 * p_artist2))\n",
    "    return pmi, shared_paragraphs"
   ],
   "metadata": {
    "collapsed": false
   },
   "id": "8b0f5ac89e231456",
   "execution_count": null
  },
  {
   "cell_type": "code",
   "outputs": [],
   "source": [
    "def calculate_pmi_values(df):\n",
    "    artist_names = df['index_name'].unique()\n",
    "    pmi_values = {}\n",
    "\n",
    "    # Iterate over all combinations of unique artist names\n",
    "    for artist1, artist2 in combinations(artist_names, 2):\n",
    "        # Calculate the PMI and get shared pages and paragraphs for the pair\n",
    "        pmi, shared_pages_paragraphs = calculate_pmi(artist1, artist2, df)\n",
    "        # Store the PMI value and shared pages and paragraphs in the dictionary\n",
    "        pmi_values[(artist1, artist2)] = {'PMI': pmi, 'Shared_pages_paragraphs': shared_pages_paragraphs}\n",
    "\n",
    "    return pmi_values\n"
   ],
   "metadata": {
    "collapsed": false
   },
   "id": "470fd5852cda2d23"
  },
  {
   "cell_type": "code",
   "outputs": [],
   "source": [
    "for name, sub_df in subdfs.items():\n",
    "    print(f\"Name: {name}\")\n",
    "    pmi_values = calculate_pmi_values(sub_df)\n",
    "    # Create a list to store the rows of the DataFrame\n",
    "    rows = []\n",
    "    # Populate the list with the calculated values\n",
    "    for pair, data in pmi_values.items():\n",
    "        artist1, artist2 = pair\n",
    "        pmi = data['PMI']\n",
    "        if pmi > 0:\n",
    "            shared_pages_paragraphs = data['Shared_pages_paragraphs']\n",
    "            for (page, paragraph), count in shared_pages_paragraphs.items():\n",
    "                rows.append({'Artist 1': artist1, 'Artist 2': artist2, 'PMI': pmi, 'Page': page, 'Paragraph': paragraph,\n",
    "                             'Shared_count': count})\n",
    "            # Create a DataFrame from the list of rows\n",
    "            result_df = pd.DataFrame(rows)\n",
    "            # Save the DataFrame to a CSV file named after the artist\n",
    "            result_df.to_csv(f\"../data/biographies/pmi/{name}_pmi_values.csv\", index=False)"
   ],
   "metadata": {
    "collapsed": false
   },
   "id": "8e24eb83939069a4"
  }
 ],
 "metadata": {
  "kernelspec": {
   "display_name": "Python 3",
   "language": "python",
   "name": "python3"
  },
  "language_info": {
   "codemirror_mode": {
    "name": "ipython",
    "version": 2
   },
   "file_extension": ".py",
   "mimetype": "text/x-python",
   "name": "python",
   "nbconvert_exporter": "python",
   "pygments_lexer": "ipython2",
   "version": "2.7.6"
  }
 },
 "nbformat": 4,
 "nbformat_minor": 5
}
