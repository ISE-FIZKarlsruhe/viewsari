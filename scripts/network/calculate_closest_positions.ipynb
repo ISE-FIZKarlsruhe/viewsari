{
 "cells": [
  {
   "cell_type": "code",
   "outputs": [],
   "source": [
    "import ast\n",
    "import glob\n",
    "from pathlib import Path\n",
    "\n",
    "import pandas as pd"
   ],
   "metadata": {
    "collapsed": false,
    "ExecuteTime": {
     "end_time": "2024-05-15T10:56:08.704846Z",
     "start_time": "2024-05-15T10:56:08.287271Z"
    }
   },
   "id": "269588c97714c823",
   "execution_count": 1
  },
  {
   "cell_type": "code",
   "outputs": [],
   "source": [
    "def parse_dataframe(df):\n",
    "    entries = {}\n",
    "    for index, row in df.iterrows():\n",
    "        page_number = row['page']\n",
    "        index_name = row['index_name']\n",
    "        position_range = row['position']\n",
    "        paragraph_number = row['paragraph']\n",
    "        \n",
    "        try:\n",
    "            # Extract start and end positions\n",
    "            start_pos, end_pos = map(int, position_range.strip('()').split(','))\n",
    "            #print(start_pos, end_pos)\n",
    "            # Calculate midpoint\n",
    "            midpoint = (start_pos + end_pos) / 2\n",
    "            \n",
    "            unique_identifier = (page_number, paragraph_number)\n",
    "            if unique_identifier not in entries:\n",
    "                entries[unique_identifier] = []\n",
    "            entries[unique_identifier].append({\"index_name\": index_name, \"midpoint\": midpoint, \"start_pos\": start_pos, \"end_pos\": end_pos})\n",
    "        except ValueError:\n",
    "            print(\"Error parsing position range in row:\", index)\n",
    "            print(\"Page:\", page_number)\n",
    "            print(\"Position Range:\", position_range)\n",
    "            print(\"Paragraph:\", paragraph_number)\n",
    "    \n",
    "    return entries\n"
   ],
   "metadata": {
    "collapsed": true,
    "ExecuteTime": {
     "end_time": "2024-05-15T10:56:08.709437Z",
     "start_time": "2024-05-15T10:56:08.705861Z"
    }
   },
   "id": "initial_id",
   "execution_count": 2
  },
  {
   "cell_type": "code",
   "outputs": [],
   "source": [
    "# Function to calculate distances between midpoints for each combination of different names within the same paragraph on the same page\n",
    "def calculate_closest_pairs(entries):\n",
    "    closest_pairs = {}\n",
    "    for page_para, entry_list in entries.items():\n",
    "        names = set(entry['index_name'] for entry in entry_list)\n",
    "        if len(names) > 1:\n",
    "            for i in range(len(entry_list)):\n",
    "                for j in range(i + 1, len(entry_list)):\n",
    "                    entry1 = entry_list[i]\n",
    "                    entry2 = entry_list[j]\n",
    "                    distance = abs(entry1[\"midpoint\"] - entry2[\"midpoint\"])\n",
    "                    if not entry1[\"index_name\"] == entry2[\"index_name\"]:\n",
    "                        name_pair = tuple(sorted([entry1[\"index_name\"], entry2[\"index_name\"]]))\n",
    "                        if name_pair not in closest_pairs or distance < closest_pairs[name_pair][\"distance\"]:\n",
    "                            closest_pairs[name_pair] = {\"page\": page_para[0], \"paragraph\": page_para[1], \"distance\": distance, \"mid_positions\": (entry1[\"midpoint\"], entry2[\"midpoint\"]), \"positions\": (min(entry1[\"start_pos\"], entry2[\"start_pos\"]), max(entry1[\"end_pos\"], entry2[\"end_pos\"]))}\n",
    "    return closest_pairs"
   ],
   "metadata": {
    "collapsed": false,
    "ExecuteTime": {
     "end_time": "2024-05-15T10:56:10.585591Z",
     "start_time": "2024-05-15T10:56:10.581103Z"
    }
   },
   "id": "e13aca656e0a158d",
   "execution_count": 3
  },
  {
   "cell_type": "code",
   "outputs": [],
   "source": [
    "def find_closest_pairs(df):\n",
    "    entries = parse_dataframe(df)\n",
    "    closest_pairs = calculate_closest_pairs(entries)\n",
    "    return closest_pairs"
   ],
   "metadata": {
    "collapsed": false,
    "ExecuteTime": {
     "end_time": "2024-05-15T10:56:11.507462Z",
     "start_time": "2024-05-15T10:56:11.503805Z"
    }
   },
   "id": "9a2ebbc8c6c5d057",
   "execution_count": 4
  },
  {
   "cell_type": "code",
   "outputs": [],
   "source": [
    "def load_source_text(csv_text_file):\n",
    "    source_df = pd.read_csv(csv_text_file)\n",
    "    return source_df\n",
    "\n",
    "# Function to extract text within the given positions from the source text\n",
    "def extract_text(source_text, paragraph, page, positions):\n",
    "    start_pos, end_pos = positions\n",
    "    output = \"\"\n",
    "    for index, row in source_text.iterrows():\n",
    "        page_numbers = [row['page']]\n",
    "        paragraph_numbers =  [row['paragraph_id']]\n",
    "\n",
    "        if page in page_numbers and paragraph in paragraph_numbers:\n",
    "            if pd.isna(row['text']):\n",
    "                continue\n",
    "            else:\n",
    "                output = row['text'][start_pos:end_pos]\n",
    "            #print(output)\n",
    "    return output\n"
   ],
   "metadata": {
    "collapsed": false,
    "ExecuteTime": {
     "end_time": "2024-05-15T10:56:12.232478Z",
     "start_time": "2024-05-15T10:56:12.228878Z"
    }
   },
   "id": "8095786a7d9238cf",
   "execution_count": 5
  },
  {
   "cell_type": "code",
   "outputs": [],
   "source": [
    "#Sample CSV filename\n",
    "for file in glob.glob(\"../../data/references/*.csv\"):\n",
    "    df = pd.read_csv(file)\n",
    "\n",
    "    # Load source text\n",
    "    source_text_file = f\"../../data/volumes/{Path(file).stem}.csv\"\n",
    "    source_text_input = load_source_text(source_text_file)\n",
    "\n",
    "    # Load CSV into a pandas DataFrame\n",
    "    closest_pairs = find_closest_pairs(df)\n",
    "    \n",
    "    for name_pair, data in closest_pairs.items():\n",
    "        try:\n",
    "            text = extract_text(source_text_input, data['paragraph'], data['page'], data['positions'])\n",
    "            data['text_snippet'] = text\n",
    "        except TypeError:\n",
    "            print(data['paragraph'], data['page'], data['positions'])\n",
    "    \n",
    "    df2 = pd.DataFrame.from_dict(closest_pairs).transpose()\n",
    "    df2 = df2.drop(columns=['mid_positions', 'distance'])\n",
    "    df2.to_csv(f'../../data/cooccurrence_text_snippets/{Path(file).stem}.csv')"
   ],
   "metadata": {
    "collapsed": false,
    "ExecuteTime": {
     "end_time": "2024-05-15T10:56:41.194298Z",
     "start_time": "2024-05-15T10:56:35.669509Z"
    }
   },
   "id": "d4dd453a4cb02d0c",
   "execution_count": 7
  },
  {
   "cell_type": "markdown",
   "source": [
    "## To test how many of the references are actually in the text"
   ],
   "metadata": {
    "collapsed": false
   },
   "id": "65f6c17b5a144d52"
  },
  {
   "cell_type": "code",
   "outputs": [
    {
     "ename": "KeyboardInterrupt",
     "evalue": "",
     "output_type": "error",
     "traceback": [
      "\u001B[1;31m---------------------------------------------------------------------------\u001B[0m",
      "\u001B[1;31mKeyboardInterrupt\u001B[0m                         Traceback (most recent call last)",
      "Cell \u001B[1;32mIn[10], line 16\u001B[0m\n\u001B[0;32m     13\u001B[0m page_ref \u001B[38;5;241m=\u001B[39m row[\u001B[38;5;124m'\u001B[39m\u001B[38;5;124mpage\u001B[39m\u001B[38;5;124m'\u001B[39m]\n\u001B[0;32m     14\u001B[0m paragraph_ref \u001B[38;5;241m=\u001B[39m row[\u001B[38;5;124m'\u001B[39m\u001B[38;5;124mparagraph\u001B[39m\u001B[38;5;124m'\u001B[39m]\n\u001B[1;32m---> 16\u001B[0m \u001B[43m\u001B[49m\u001B[38;5;28;43;01mfor\u001B[39;49;00m\u001B[43m \u001B[49m\u001B[43mindex_2\u001B[49m\u001B[43m,\u001B[49m\u001B[43m \u001B[49m\u001B[43mrow_2\u001B[49m\u001B[43m \u001B[49m\u001B[38;5;129;43;01min\u001B[39;49;00m\u001B[43m \u001B[49m\u001B[43mdf_volumes\u001B[49m\u001B[38;5;241;43m.\u001B[39;49m\u001B[43miterrows\u001B[49m\u001B[43m(\u001B[49m\u001B[43m)\u001B[49m\u001B[43m:\u001B[49m\n\u001B[0;32m     17\u001B[0m \u001B[43m    \u001B[49m\u001B[43mpage_numbers\u001B[49m\u001B[43m \u001B[49m\u001B[38;5;241;43m=\u001B[39;49m\u001B[43m  \u001B[49m\u001B[43m[\u001B[49m\u001B[43mrow_2\u001B[49m\u001B[43m[\u001B[49m\u001B[38;5;124;43m'\u001B[39;49m\u001B[38;5;124;43mpage\u001B[39;49m\u001B[38;5;124;43m'\u001B[39;49m\u001B[43m]\u001B[49m\u001B[43m]\u001B[49m\n\u001B[0;32m     18\u001B[0m \u001B[43m    \u001B[49m\u001B[43mparagraph_numbers\u001B[49m\u001B[43m \u001B[49m\u001B[38;5;241;43m=\u001B[39;49m\u001B[43m  \u001B[49m\u001B[43m[\u001B[49m\u001B[43mrow_2\u001B[49m\u001B[43m[\u001B[49m\u001B[38;5;124;43m'\u001B[39;49m\u001B[38;5;124;43mparagraph_id\u001B[39;49m\u001B[38;5;124;43m'\u001B[39;49m\u001B[43m]\u001B[49m\u001B[43m]\u001B[49m\n",
      "File \u001B[1;32m~\\AppData\\Local\\Programs\\Python\\Python312\\Lib\\site-packages\\pandas\\core\\frame.py:1554\u001B[0m, in \u001B[0;36mDataFrame.iterrows\u001B[1;34m(self)\u001B[0m\n\u001B[0;32m   1552\u001B[0m using_cow \u001B[38;5;241m=\u001B[39m using_copy_on_write()\n\u001B[0;32m   1553\u001B[0m \u001B[38;5;28;01mfor\u001B[39;00m k, v \u001B[38;5;129;01min\u001B[39;00m \u001B[38;5;28mzip\u001B[39m(\u001B[38;5;28mself\u001B[39m\u001B[38;5;241m.\u001B[39mindex, \u001B[38;5;28mself\u001B[39m\u001B[38;5;241m.\u001B[39mvalues):\n\u001B[1;32m-> 1554\u001B[0m     s \u001B[38;5;241m=\u001B[39m \u001B[43mklass\u001B[49m\u001B[43m(\u001B[49m\u001B[43mv\u001B[49m\u001B[43m,\u001B[49m\u001B[43m \u001B[49m\u001B[43mindex\u001B[49m\u001B[38;5;241;43m=\u001B[39;49m\u001B[43mcolumns\u001B[49m\u001B[43m,\u001B[49m\u001B[43m \u001B[49m\u001B[43mname\u001B[49m\u001B[38;5;241;43m=\u001B[39;49m\u001B[43mk\u001B[49m\u001B[43m)\u001B[49m\u001B[38;5;241m.\u001B[39m__finalize__(\u001B[38;5;28mself\u001B[39m)\n\u001B[0;32m   1555\u001B[0m     \u001B[38;5;28;01mif\u001B[39;00m using_cow \u001B[38;5;129;01mand\u001B[39;00m \u001B[38;5;28mself\u001B[39m\u001B[38;5;241m.\u001B[39m_mgr\u001B[38;5;241m.\u001B[39mis_single_block:\n\u001B[0;32m   1556\u001B[0m         s\u001B[38;5;241m.\u001B[39m_mgr\u001B[38;5;241m.\u001B[39madd_references(\u001B[38;5;28mself\u001B[39m\u001B[38;5;241m.\u001B[39m_mgr)  \u001B[38;5;66;03m# type: ignore[arg-type]\u001B[39;00m\n",
      "File \u001B[1;32m~\\AppData\\Local\\Programs\\Python\\Python312\\Lib\\site-packages\\pandas\\core\\series.py:584\u001B[0m, in \u001B[0;36mSeries.__init__\u001B[1;34m(self, data, index, dtype, name, copy, fastpath)\u001B[0m\n\u001B[0;32m    582\u001B[0m         data \u001B[38;5;241m=\u001B[39m data\u001B[38;5;241m.\u001B[39mcopy()\n\u001B[0;32m    583\u001B[0m \u001B[38;5;28;01melse\u001B[39;00m:\n\u001B[1;32m--> 584\u001B[0m     data \u001B[38;5;241m=\u001B[39m \u001B[43msanitize_array\u001B[49m\u001B[43m(\u001B[49m\u001B[43mdata\u001B[49m\u001B[43m,\u001B[49m\u001B[43m \u001B[49m\u001B[43mindex\u001B[49m\u001B[43m,\u001B[49m\u001B[43m \u001B[49m\u001B[43mdtype\u001B[49m\u001B[43m,\u001B[49m\u001B[43m \u001B[49m\u001B[43mcopy\u001B[49m\u001B[43m)\u001B[49m\n\u001B[0;32m    586\u001B[0m     manager \u001B[38;5;241m=\u001B[39m _get_option(\u001B[38;5;124m\"\u001B[39m\u001B[38;5;124mmode.data_manager\u001B[39m\u001B[38;5;124m\"\u001B[39m, silent\u001B[38;5;241m=\u001B[39m\u001B[38;5;28;01mTrue\u001B[39;00m)\n\u001B[0;32m    587\u001B[0m     \u001B[38;5;28;01mif\u001B[39;00m manager \u001B[38;5;241m==\u001B[39m \u001B[38;5;124m\"\u001B[39m\u001B[38;5;124mblock\u001B[39m\u001B[38;5;124m\"\u001B[39m:\n",
      "File \u001B[1;32m~\\AppData\\Local\\Programs\\Python\\Python312\\Lib\\site-packages\\pandas\\core\\construction.py:606\u001B[0m, in \u001B[0;36msanitize_array\u001B[1;34m(data, index, dtype, copy, allow_2d)\u001B[0m\n\u001B[0;32m    604\u001B[0m subarr \u001B[38;5;241m=\u001B[39m data\n\u001B[0;32m    605\u001B[0m \u001B[38;5;28;01mif\u001B[39;00m data\u001B[38;5;241m.\u001B[39mdtype \u001B[38;5;241m==\u001B[39m \u001B[38;5;28mobject\u001B[39m:\n\u001B[1;32m--> 606\u001B[0m     subarr \u001B[38;5;241m=\u001B[39m \u001B[43mmaybe_infer_to_datetimelike\u001B[49m\u001B[43m(\u001B[49m\u001B[43mdata\u001B[49m\u001B[43m)\u001B[49m\n\u001B[0;32m    607\u001B[0m     \u001B[38;5;28;01mif\u001B[39;00m (\n\u001B[0;32m    608\u001B[0m         object_index\n\u001B[0;32m    609\u001B[0m         \u001B[38;5;129;01mand\u001B[39;00m using_pyarrow_string_dtype()\n\u001B[0;32m    610\u001B[0m         \u001B[38;5;129;01mand\u001B[39;00m is_string_dtype(subarr)\n\u001B[0;32m    611\u001B[0m     ):\n\u001B[0;32m    612\u001B[0m         \u001B[38;5;66;03m# Avoid inference when string option is set\u001B[39;00m\n\u001B[0;32m    613\u001B[0m         subarr \u001B[38;5;241m=\u001B[39m data\n",
      "File \u001B[1;32m~\\AppData\\Local\\Programs\\Python\\Python312\\Lib\\site-packages\\pandas\\core\\dtypes\\cast.py:1196\u001B[0m, in \u001B[0;36mmaybe_infer_to_datetimelike\u001B[1;34m(value)\u001B[0m\n\u001B[0;32m   1185\u001B[0m     \u001B[38;5;28;01mreturn\u001B[39;00m value\n\u001B[0;32m   1187\u001B[0m \u001B[38;5;66;03m# error: Incompatible return value type (got \"Union[ExtensionArray,\u001B[39;00m\n\u001B[0;32m   1188\u001B[0m \u001B[38;5;66;03m# ndarray[Any, Any]]\", expected \"Union[ndarray[Any, Any], DatetimeArray,\u001B[39;00m\n\u001B[0;32m   1189\u001B[0m \u001B[38;5;66;03m# TimedeltaArray, PeriodArray, IntervalArray]\")\u001B[39;00m\n\u001B[0;32m   1190\u001B[0m \u001B[38;5;28;01mreturn\u001B[39;00m lib\u001B[38;5;241m.\u001B[39mmaybe_convert_objects(  \u001B[38;5;66;03m# type: ignore[return-value]\u001B[39;00m\n\u001B[0;32m   1191\u001B[0m     value,\n\u001B[0;32m   1192\u001B[0m     \u001B[38;5;66;03m# Here we do not convert numeric dtypes, as if we wanted that,\u001B[39;00m\n\u001B[0;32m   1193\u001B[0m     \u001B[38;5;66;03m#  numpy would have done it for us.\u001B[39;00m\n\u001B[0;32m   1194\u001B[0m     convert_numeric\u001B[38;5;241m=\u001B[39m\u001B[38;5;28;01mFalse\u001B[39;00m,\n\u001B[0;32m   1195\u001B[0m     convert_non_numeric\u001B[38;5;241m=\u001B[39m\u001B[38;5;28;01mTrue\u001B[39;00m,\n\u001B[1;32m-> 1196\u001B[0m     dtype_if_all_nat\u001B[38;5;241m=\u001B[39m\u001B[43mnp\u001B[49m\u001B[38;5;241;43m.\u001B[39;49m\u001B[43mdtype\u001B[49m\u001B[43m(\u001B[49m\u001B[38;5;124;43m\"\u001B[39;49m\u001B[38;5;124;43mM8[ns]\u001B[39;49m\u001B[38;5;124;43m\"\u001B[39;49m\u001B[43m)\u001B[49m,\n\u001B[0;32m   1197\u001B[0m )\n",
      "\u001B[1;31mKeyboardInterrupt\u001B[0m: "
     ]
    }
   ],
   "source": [
    "# Load source text\n",
    "source_text_file = \"../../data/volumes/0.csv\"\n",
    "\n",
    "#Sample CSV filename\n",
    "csv_file = \"../../data/references/0_v1.csv\"\n",
    "\n",
    "# Load CSV into a pandas DataFrame\n",
    "df_references = pd.read_csv(csv_file)\n",
    "df_volumes = pd.read_csv(source_text_file)\n",
    "\n",
    "for index, row in df_references.iterrows():\n",
    "    start_pos, end_pos = x = ast.literal_eval(row['position'])\n",
    "    page_ref = row['page']\n",
    "    paragraph_ref = row['paragraph']\n",
    "\n",
    "    for index_2, row_2 in df_volumes.iterrows():\n",
    "        page_numbers =  [row_2['page']]\n",
    "        paragraph_numbers =  [row_2['paragraph_id']]\n",
    "\n",
    "        if page_ref in page_numbers and paragraph_ref in paragraph_numbers:\n",
    "            try:\n",
    "                #print(start_pos, end_pos, page_numbers, paragraph_numbers, row['index_name'], len(row_2['text']))\n",
    "                if row['reference'] == row_2['text'][start_pos:end_pos]:\n",
    "                    print(f\"Yay: {row_2['text'][start_pos:end_pos]}\")\n",
    "                else: \n",
    "                    print(f\"Nay!\")\n",
    "            \n",
    "            except ValueError:\n",
    "                print(\"Error parsing position range in row:\", index)\n",
    "                print(\"Page:\", page_numbers)\n",
    "                print(\"Position Range:\", row['position'])\n",
    "                print(\"Paragraph:\", paragraph_numbers)\n",
    "\n"
   ],
   "metadata": {
    "collapsed": false,
    "ExecuteTime": {
     "end_time": "2024-05-15T06:06:02.627996Z",
     "start_time": "2024-05-15T06:05:45.487571Z"
    }
   },
   "id": "6c023a919ac0dc5a",
   "execution_count": 10
  },
  {
   "cell_type": "code",
   "outputs": [],
   "source": [],
   "metadata": {
    "collapsed": false
   },
   "id": "371f5424b3b3a25c"
  }
 ],
 "metadata": {
  "kernelspec": {
   "display_name": "Python 3",
   "language": "python",
   "name": "python3"
  },
  "language_info": {
   "codemirror_mode": {
    "name": "ipython",
    "version": 2
   },
   "file_extension": ".py",
   "mimetype": "text/x-python",
   "name": "python",
   "nbconvert_exporter": "python",
   "pygments_lexer": "ipython2",
   "version": "2.7.6"
  }
 },
 "nbformat": 4,
 "nbformat_minor": 5
}
