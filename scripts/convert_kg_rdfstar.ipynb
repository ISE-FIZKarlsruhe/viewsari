{
 "cells": [
  {
   "cell_type": "markdown",
   "metadata": {},
   "source": [
    "# Blank-node network to RDF-star\n",
    "\n",
    "This notebook converts the network modelled in `../data/knowledge-graph/vasari-kg.ttl` from a blank-node based version, to a network expressed in RDF-star notation.\n",
    "\n",
    "It uses the [pyoxigraph library](https://pyoxigraph.readthedocs.io/en/stable/) in Python, if you do not have it installed yet, install it first using the next cell."
   ]
  },
  {
   "cell_type": "code",
   "execution_count": null,
   "metadata": {},
   "outputs": [],
   "source": [
    "!pip install pyoxigraph"
   ]
  },
  {
   "cell_type": "code",
   "execution_count": 3,
   "metadata": {
    "ExecuteTime": {
     "end_time": "2024-01-19T09:39:05.399448Z",
     "start_time": "2024-01-19T09:39:04.917975Z"
    }
   },
   "outputs": [],
   "source": [
    "import pyoxigraph as px\n",
    "from rich import print"
   ]
  },
  {
   "cell_type": "code",
   "execution_count": 4,
   "metadata": {
    "ExecuteTime": {
     "end_time": "2024-01-19T09:39:06.907835Z",
     "start_time": "2024-01-19T09:39:06.658412Z"
    }
   },
   "outputs": [
    {
     "data": {
      "text/plain": "\u001B[1;36m5837\u001B[0m\n",
      "text/html": "<pre style=\"white-space:pre;overflow-x:auto;line-height:normal;font-family:Menlo,'DejaVu Sans Mono',consolas,'Courier New',monospace\"><span style=\"color: #008080; text-decoration-color: #008080; font-weight: bold\">5837</span>\n</pre>\n"
     },
     "metadata": {},
     "output_type": "display_data"
    }
   ],
   "source": [
    "store = px.Store()\n",
    "store.bulk_load('../data/knowledge-graph/vasari-kg.ttl', 'text/turtle')\n",
    "print(len(store))"
   ]
  },
  {
   "cell_type": "code",
   "execution_count": 5,
   "metadata": {
    "ExecuteTime": {
     "end_time": "2024-01-19T09:39:08.782804Z",
     "start_time": "2024-01-19T09:39:08.770289Z"
    }
   },
   "outputs": [],
   "source": [
    "edges = {}\n",
    "for s,p,o,_ in store.quads_for_pattern(None, px.NamedNode('https://ISE-FIZKarlsruhe.github.io/vasari_network/property/isEdgeOf'), None):\n",
    "    edges.setdefault(s, []).append(o)\n",
    "\n"
   ]
  },
  {
   "cell_type": "code",
   "execution_count": 6,
   "metadata": {
    "ExecuteTime": {
     "end_time": "2024-01-19T09:39:10.287516Z",
     "start_time": "2024-01-19T09:39:09.758650Z"
    }
   },
   "outputs": [
    {
     "data": {
      "text/plain": "\u001B[1m[\u001B[0m\n    \u001B[1m(\u001B[0m\n        \u001B[1m<\u001B[0m\u001B[1;95mNamedNode\u001B[0m\u001B[39m \u001B[0m\u001B[33mvalue\u001B[0m\u001B[39m=\u001B[0m\u001B[4;94mhttps\u001B[0m\u001B[4;94m://ISE-FIZKarlsruhe.github.io/vasari_network/property/isEdgeOf\u001B[0m\u001B[39m>,\u001B[0m\n\u001B[39m        <NamedNode \u001B[0m\u001B[33mvalue\u001B[0m\u001B[39m=\u001B[0m\u001B[4;94mhttps\u001B[0m\u001B[4;94m://ISE-FIZKarlsruhe.github.io/vasari_network/entity/Apelles\u001B[0m\u001B[39m>\u001B[0m\n\u001B[39m    \u001B[0m\u001B[1;39m)\u001B[0m\u001B[39m,\u001B[0m\n\u001B[39m    \u001B[0m\u001B[1;39m(\u001B[0m\n\u001B[39m        <NamedNode \u001B[0m\u001B[33mvalue\u001B[0m\u001B[39m=\u001B[0m\u001B[4;94mhttps\u001B[0m\u001B[4;94m://ISE-FIZKarlsruhe.github.io/vasari_network/property/isEdgeOf\u001B[0m\u001B[39m>,\u001B[0m\n\u001B[39m        <NamedNode \u001B[0m\n\u001B[33mvalue\u001B[0m\u001B[39m=\u001B[0m\u001B[4;94mhttps\u001B[0m\u001B[4;94m://ISE-FIZKarlsruhe.github.io/vasari_network/entity/Botticelli%2C%20Sandro%20%28Sandro%20di%20Botticello\u001B[0m\n\u001B[4;94m%2C%20or%20Alessandro%20Filipepi%29\u001B[0m\u001B[39m>\u001B[0m\n\u001B[39m    \u001B[0m\u001B[1;39m)\u001B[0m\u001B[39m,\u001B[0m\n\u001B[39m    \u001B[0m\u001B[1;39m(\u001B[0m\n\u001B[39m        <NamedNode \u001B[0m\u001B[33mvalue\u001B[0m\u001B[39m=\u001B[0m\u001B[4;94mhttps\u001B[0m\u001B[4;94m://ISE-FIZKarlsruhe.github.io/vasari_network/property/weight\u001B[0m\u001B[39m>,\u001B[0m\n\u001B[39m        <Literal \u001B[0m\u001B[33mvalue\u001B[0m\u001B[39m=\u001B[0m\u001B[1;36m7\u001B[0m\u001B[1;36m.7567945\u001B[0m\u001B[39m \u001B[0m\u001B[33mdatatype\u001B[0m\u001B[39m=<NamedNode \u001B[0m\u001B[33mvalue\u001B[0m\u001B[39m=\u001B[0m\u001B[4;94mhttp\u001B[0m\u001B[4;94m://www.w3.org/2001/XMLSchema#float\u001B[0m\u001B[39m>\u001B[0m\u001B[1m>\u001B[0m\n    \u001B[1m)\u001B[0m\n\u001B[1m]\u001B[0m\n",
      "text/html": "<pre style=\"white-space:pre;overflow-x:auto;line-height:normal;font-family:Menlo,'DejaVu Sans Mono',consolas,'Courier New',monospace\"><span style=\"font-weight: bold\">[</span>\n    <span style=\"font-weight: bold\">(</span>\n        <span style=\"font-weight: bold\">&lt;</span><span style=\"color: #ff00ff; text-decoration-color: #ff00ff; font-weight: bold\">NamedNode</span><span style=\"color: #000000; text-decoration-color: #000000\"> </span><span style=\"color: #808000; text-decoration-color: #808000\">value</span><span style=\"color: #000000; text-decoration-color: #000000\">=</span><span style=\"color: #0000ff; text-decoration-color: #0000ff; text-decoration: underline\">https://ISE-FIZKarlsruhe.github.io/vasari_network/property/isEdgeOf</span><span style=\"color: #000000; text-decoration-color: #000000\">&gt;,</span>\n<span style=\"color: #000000; text-decoration-color: #000000\">        &lt;NamedNode </span><span style=\"color: #808000; text-decoration-color: #808000\">value</span><span style=\"color: #000000; text-decoration-color: #000000\">=</span><span style=\"color: #0000ff; text-decoration-color: #0000ff; text-decoration: underline\">https://ISE-FIZKarlsruhe.github.io/vasari_network/entity/Apelles</span><span style=\"color: #000000; text-decoration-color: #000000\">&gt;</span>\n<span style=\"color: #000000; text-decoration-color: #000000\">    </span><span style=\"color: #000000; text-decoration-color: #000000; font-weight: bold\">)</span><span style=\"color: #000000; text-decoration-color: #000000\">,</span>\n<span style=\"color: #000000; text-decoration-color: #000000\">    </span><span style=\"color: #000000; text-decoration-color: #000000; font-weight: bold\">(</span>\n<span style=\"color: #000000; text-decoration-color: #000000\">        &lt;NamedNode </span><span style=\"color: #808000; text-decoration-color: #808000\">value</span><span style=\"color: #000000; text-decoration-color: #000000\">=</span><span style=\"color: #0000ff; text-decoration-color: #0000ff; text-decoration: underline\">https://ISE-FIZKarlsruhe.github.io/vasari_network/property/isEdgeOf</span><span style=\"color: #000000; text-decoration-color: #000000\">&gt;,</span>\n<span style=\"color: #000000; text-decoration-color: #000000\">        &lt;NamedNode </span>\n<span style=\"color: #808000; text-decoration-color: #808000\">value</span><span style=\"color: #000000; text-decoration-color: #000000\">=</span><span style=\"color: #0000ff; text-decoration-color: #0000ff; text-decoration: underline\">https://ISE-FIZKarlsruhe.github.io/vasari_network/entity/Botticelli%2C%20Sandro%20%28Sandro%20di%20Botticello</span>\n<span style=\"color: #0000ff; text-decoration-color: #0000ff; text-decoration: underline\">%2C%20or%20Alessandro%20Filipepi%29</span><span style=\"color: #000000; text-decoration-color: #000000\">&gt;</span>\n<span style=\"color: #000000; text-decoration-color: #000000\">    </span><span style=\"color: #000000; text-decoration-color: #000000; font-weight: bold\">)</span><span style=\"color: #000000; text-decoration-color: #000000\">,</span>\n<span style=\"color: #000000; text-decoration-color: #000000\">    </span><span style=\"color: #000000; text-decoration-color: #000000; font-weight: bold\">(</span>\n<span style=\"color: #000000; text-decoration-color: #000000\">        &lt;NamedNode </span><span style=\"color: #808000; text-decoration-color: #808000\">value</span><span style=\"color: #000000; text-decoration-color: #000000\">=</span><span style=\"color: #0000ff; text-decoration-color: #0000ff; text-decoration: underline\">https://ISE-FIZKarlsruhe.github.io/vasari_network/property/weight</span><span style=\"color: #000000; text-decoration-color: #000000\">&gt;,</span>\n<span style=\"color: #000000; text-decoration-color: #000000\">        &lt;Literal </span><span style=\"color: #808000; text-decoration-color: #808000\">value</span><span style=\"color: #000000; text-decoration-color: #000000\">=</span><span style=\"color: #008080; text-decoration-color: #008080; font-weight: bold\">7.7567945</span><span style=\"color: #000000; text-decoration-color: #000000\"> </span><span style=\"color: #808000; text-decoration-color: #808000\">datatype</span><span style=\"color: #000000; text-decoration-color: #000000\">=&lt;NamedNode </span><span style=\"color: #808000; text-decoration-color: #808000\">value</span><span style=\"color: #000000; text-decoration-color: #000000\">=</span><span style=\"color: #0000ff; text-decoration-color: #0000ff; text-decoration: underline\">http://www.w3.org/2001/XMLSchema#float</span><span style=\"color: #000000; text-decoration-color: #000000\">&gt;</span><span style=\"font-weight: bold\">&gt;</span>\n    <span style=\"font-weight: bold\">)</span>\n<span style=\"font-weight: bold\">]</span>\n</pre>\n"
     },
     "metadata": {},
     "output_type": "display_data"
    },
    {
     "data": {
      "text/plain": "\u001B[1m[\u001B[0m\n    \u001B[1m<\u001B[0m\u001B[1;95mNamedNode\u001B[0m\u001B[39m \u001B[0m\u001B[33mvalue\u001B[0m\u001B[39m=\u001B[0m\u001B[4;94mhttps\u001B[0m\u001B[4;94m://ISE-FIZKarlsruhe.github.io/vasari_network/entity/Apelles\u001B[0m\u001B[39m>,\u001B[0m\n\u001B[39m    <NamedNode \u001B[0m\n\u001B[33mvalue\u001B[0m\u001B[39m=\u001B[0m\u001B[4;94mhttps\u001B[0m\u001B[4;94m://ISE-FIZKarlsruhe.github.io/vasari_network/entity/Botticelli%2C%20Sandro%20%28Sandro%20di%20Botticello\u001B[0m\n\u001B[4;94m%2C%20or%20Alessandro%20Filipepi%29\u001B[0m\u001B[1m>\u001B[0m\n\u001B[1m]\u001B[0m\n",
      "text/html": "<pre style=\"white-space:pre;overflow-x:auto;line-height:normal;font-family:Menlo,'DejaVu Sans Mono',consolas,'Courier New',monospace\"><span style=\"font-weight: bold\">[</span>\n    <span style=\"font-weight: bold\">&lt;</span><span style=\"color: #ff00ff; text-decoration-color: #ff00ff; font-weight: bold\">NamedNode</span><span style=\"color: #000000; text-decoration-color: #000000\"> </span><span style=\"color: #808000; text-decoration-color: #808000\">value</span><span style=\"color: #000000; text-decoration-color: #000000\">=</span><span style=\"color: #0000ff; text-decoration-color: #0000ff; text-decoration: underline\">https://ISE-FIZKarlsruhe.github.io/vasari_network/entity/Apelles</span><span style=\"color: #000000; text-decoration-color: #000000\">&gt;,</span>\n<span style=\"color: #000000; text-decoration-color: #000000\">    &lt;NamedNode </span>\n<span style=\"color: #808000; text-decoration-color: #808000\">value</span><span style=\"color: #000000; text-decoration-color: #000000\">=</span><span style=\"color: #0000ff; text-decoration-color: #0000ff; text-decoration: underline\">https://ISE-FIZKarlsruhe.github.io/vasari_network/entity/Botticelli%2C%20Sandro%20%28Sandro%20di%20Botticello</span>\n<span style=\"color: #0000ff; text-decoration-color: #0000ff; text-decoration: underline\">%2C%20or%20Alessandro%20Filipepi%29</span><span style=\"font-weight: bold\">&gt;</span>\n<span style=\"font-weight: bold\">]</span>\n</pre>\n"
     },
     "metadata": {},
     "output_type": "display_data"
    }
   ],
   "source": [
    "x = [(p,o) for s,p,o,_ in store.quads_for_pattern(list(edges.keys())[0], None, None)]\n",
    "print(x)\n",
    "print(list(edges.values())[0])"
   ]
  },
  {
   "cell_type": "code",
   "execution_count": 7,
   "metadata": {
    "ExecuteTime": {
     "end_time": "2024-01-19T09:39:11.798476Z",
     "start_time": "2024-01-19T09:39:11.551702Z"
    }
   },
   "outputs": [],
   "source": [
    "out = px.Store()\n",
    "for s,p,o,_ in store.quads_for_pattern(None, px.NamedNode('https://ISE-FIZKarlsruhe.github.io/vasari_network/property/weight'), None):\n",
    "    edge = edges.get(s)\n",
    "    a, b = edge\n",
    "    t = px.Quad(a, px.NamedNode('https://ISE-FIZKarlsruhe.github.io/vasari_network/link'), b)\n",
    "    out.add(t)\n",
    "    q = px.Quad(t.triple, px.NamedNode('https://ISE-FIZKarlsruhe.github.io/vasari_network/property/weight'), o)\n",
    "    out.add(q)\n",
    "out.dump('vasari-network-rdf-star.nt', 'application/n-triples')"
   ]
  },
  {
   "cell_type": "code",
   "execution_count": 8,
   "metadata": {
    "ExecuteTime": {
     "end_time": "2024-01-19T09:39:17.216986Z",
     "start_time": "2024-01-19T09:39:16.777032Z"
    }
   },
   "outputs": [
    {
     "data": {
      "text/plain": "\u001B[1m<\u001B[0m\u001B[4;94mhttps:\u001B[0m\u001B[4;94m//ISE-FIZKarlsruhe.github.io/vasari_network/entity/Apelles\u001B[0m\u001B[39m> \u001B[0m\n\u001B[39m<\u001B[0m\u001B[4;94mhttps://ISE-FIZKarlsruhe.github.io/vasari_network/link\u001B[0m\u001B[39m> \u001B[0m\n\u001B[39m<\u001B[0m\u001B[4;94mhttps://ISE-FIZKarlsruhe.github.io/vasari_network/entity/Botticelli%2C%20Sandro%20%28Sandro%20di%20Botticello%2C%2\u001B[0m\n\u001B[4;94m0or%20Alessandro%20Filipepi%29\u001B[0m\u001B[1m>\u001B[0m \u001B[1m<\u001B[0m\u001B[4;94mhttps:\u001B[0m\u001B[4;94m//ISE-FIZKarlsruhe.github.io/vasari_network/property/weight\u001B[0m\u001B[1m>\u001B[0m \n\u001B[32m\"7.7567945\"\u001B[0m^^\u001B[1m<\u001B[0m\u001B[4;94mhttp:\u001B[0m\u001B[4;94m//www.w3.org/2001/XMLSchema#float\u001B[0m\u001B[1m>\u001B[0m\n",
      "text/html": "<pre style=\"white-space:pre;overflow-x:auto;line-height:normal;font-family:Menlo,'DejaVu Sans Mono',consolas,'Courier New',monospace\"><span style=\"font-weight: bold\">&lt;</span><span style=\"color: #0000ff; text-decoration-color: #0000ff; text-decoration: underline\">https://ISE-FIZKarlsruhe.github.io/vasari_network/entity/Apelles</span><span style=\"color: #000000; text-decoration-color: #000000\">&gt; </span>\n<span style=\"color: #000000; text-decoration-color: #000000\">&lt;</span><span style=\"color: #0000ff; text-decoration-color: #0000ff; text-decoration: underline\">https://ISE-FIZKarlsruhe.github.io/vasari_network/link</span><span style=\"color: #000000; text-decoration-color: #000000\">&gt; </span>\n<span style=\"color: #000000; text-decoration-color: #000000\">&lt;</span><span style=\"color: #0000ff; text-decoration-color: #0000ff; text-decoration: underline\">https://ISE-FIZKarlsruhe.github.io/vasari_network/entity/Botticelli%2C%20Sandro%20%28Sandro%20di%20Botticello%2C%2</span>\n<span style=\"color: #0000ff; text-decoration-color: #0000ff; text-decoration: underline\">0or%20Alessandro%20Filipepi%29</span><span style=\"font-weight: bold\">&gt;</span> <span style=\"font-weight: bold\">&lt;</span><span style=\"color: #0000ff; text-decoration-color: #0000ff; text-decoration: underline\">https://ISE-FIZKarlsruhe.github.io/vasari_network/property/weight</span><span style=\"font-weight: bold\">&gt;</span> \n<span style=\"color: #008000; text-decoration-color: #008000\">\"7.7567945\"</span>^^<span style=\"font-weight: bold\">&lt;</span><span style=\"color: #0000ff; text-decoration-color: #0000ff; text-decoration: underline\">http://www.w3.org/2001/XMLSchema#float</span><span style=\"font-weight: bold\">&gt;</span>\n</pre>\n"
     },
     "metadata": {},
     "output_type": "display_data"
    },
    {
     "data": {
      "text/plain": "\u001B[1m<\u001B[0m\u001B[1;95mclass\u001B[0m\u001B[39m \u001B[0m\u001B[32m'pyoxigraph.Triple'\u001B[0m\u001B[1m>\u001B[0m\n",
      "text/html": "<pre style=\"white-space:pre;overflow-x:auto;line-height:normal;font-family:Menlo,'DejaVu Sans Mono',consolas,'Courier New',monospace\"><span style=\"font-weight: bold\">&lt;</span><span style=\"color: #ff00ff; text-decoration-color: #ff00ff; font-weight: bold\">class</span><span style=\"color: #000000; text-decoration-color: #000000\"> </span><span style=\"color: #008000; text-decoration-color: #008000\">'pyoxigraph.Triple'</span><span style=\"font-weight: bold\">&gt;</span>\n</pre>\n"
     },
     "metadata": {},
     "output_type": "display_data"
    }
   ],
   "source": [
    "circled = px.Store()\n",
    "circled.bulk_load('vasari-network-rdf-star.nt', 'application/n-triples')\n",
    "for s,p,o,_ in circled.quads_for_pattern(None, None, None):\n",
    "    if p == px.NamedNode('https://ISE-FIZKarlsruhe.github.io/vasari_network/link'):\n",
    "        continue\n",
    "    print(s,p,o)\n",
    "    print(type(s))\n",
    "    break"
   ]
  },
  {
   "cell_type": "code",
   "execution_count": null,
   "outputs": [],
   "source": [],
   "metadata": {
    "collapsed": false
   }
  }
 ],
 "metadata": {
  "kernelspec": {
   "display_name": "p39",
   "language": "python",
   "name": "python3"
  },
  "language_info": {
   "codemirror_mode": {
    "name": "ipython",
    "version": 3
   },
   "file_extension": ".py",
   "mimetype": "text/x-python",
   "name": "python",
   "nbconvert_exporter": "python",
   "pygments_lexer": "ipython3",
   "version": "3.9.15"
  }
 },
 "nbformat": 4,
 "nbformat_minor": 2
}
