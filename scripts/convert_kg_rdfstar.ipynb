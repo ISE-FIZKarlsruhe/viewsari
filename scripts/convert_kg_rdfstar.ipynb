{
 "cells": [
  {
   "cell_type": "code",
   "execution_count": 12,
   "metadata": {},
   "outputs": [],
   "source": [
    "import pyoxigraph as px\n",
    "from rich import print"
   ]
  },
  {
   "cell_type": "code",
   "execution_count": 5,
   "metadata": {},
   "outputs": [
    {
     "name": "stdout",
     "output_type": "stream",
     "text": [
      "5837\n"
     ]
    }
   ],
   "source": [
    "store = px.Store()\n",
    "store.bulk_load('../data/knowledge-graph/vasari-kg.ttl', 'text/turtle')\n",
    "print(len(store))"
   ]
  },
  {
   "cell_type": "code",
   "execution_count": 26,
   "metadata": {},
   "outputs": [],
   "source": [
    "edges = {}\n",
    "for s,p,o,_ in store.quads_for_pattern(None, px.NamedNode('https://ISE-FIZKarlsruhe.github.io/vasari_network/property/isEdgeOf'), None):\n",
    "    edges.setdefault(s, []).append(o)\n",
    "\n"
   ]
  },
  {
   "cell_type": "code",
   "execution_count": 14,
   "metadata": {},
   "outputs": [
    {
     "data": {
      "text/html": [
       "<pre style=\"white-space:pre;overflow-x:auto;line-height:normal;font-family:Menlo,'DejaVu Sans Mono',consolas,'Courier New',monospace\"><span style=\"font-weight: bold\">[</span>\n",
       "    <span style=\"font-weight: bold\">(</span>\n",
       "        <span style=\"font-weight: bold\">&lt;</span><span style=\"color: #ff00ff; text-decoration-color: #ff00ff; font-weight: bold\">NamedNode</span><span style=\"color: #000000; text-decoration-color: #000000\"> </span>\n",
       "<span style=\"color: #808000; text-decoration-color: #808000\">value</span><span style=\"color: #000000; text-decoration-color: #000000\">=</span><span style=\"color: #0000ff; text-decoration-color: #0000ff; text-decoration: underline\">https://ISE-FIZKarlsruhe.github.io/vasari_network/property/isEdgeOf</span><span style=\"font-weight: bold\">&gt;</span>,\n",
       "        <span style=\"font-weight: bold\">&lt;</span><span style=\"color: #ff00ff; text-decoration-color: #ff00ff; font-weight: bold\">NamedNode</span><span style=\"color: #000000; text-decoration-color: #000000\"> </span><span style=\"color: #808000; text-decoration-color: #808000\">value</span><span style=\"color: #000000; text-decoration-color: #000000\">=</span><span style=\"color: #0000ff; text-decoration-color: #0000ff; text-decoration: underline\">https://ISE-FIZKarlsruhe.github.io/vasari_network/entity/Apelles</span><span style=\"font-weight: bold\">&gt;</span>\n",
       "    <span style=\"font-weight: bold\">)</span>,\n",
       "    <span style=\"font-weight: bold\">(</span>\n",
       "        <span style=\"font-weight: bold\">&lt;</span><span style=\"color: #ff00ff; text-decoration-color: #ff00ff; font-weight: bold\">NamedNode</span><span style=\"color: #000000; text-decoration-color: #000000\"> </span>\n",
       "<span style=\"color: #808000; text-decoration-color: #808000\">value</span><span style=\"color: #000000; text-decoration-color: #000000\">=</span><span style=\"color: #0000ff; text-decoration-color: #0000ff; text-decoration: underline\">https://ISE-FIZKarlsruhe.github.io/vasari_network/property/isEdgeOf</span><span style=\"font-weight: bold\">&gt;</span>,\n",
       "        <span style=\"font-weight: bold\">&lt;</span><span style=\"color: #ff00ff; text-decoration-color: #ff00ff; font-weight: bold\">NamedNode</span><span style=\"color: #000000; text-decoration-color: #000000\"> </span><span style=\"color: #808000; text-decoration-color: #808000\">value</span><span style=\"color: #000000; text-decoration-color: #000000\">=</span><span style=\"color: #0000ff; text-decoration-color: #0000ff; text-decoration: underline\">https://ISE-FIZKarlsruhe.github.io/vasari_network/entity/Botticelli%</span>\n",
       "<span style=\"color: #0000ff; text-decoration-color: #0000ff; text-decoration: underline\">2C%20Sandro%20%28Sandro%20di%20Botticello%2C%20or%20Alessandro%20Filipepi%29</span><span style=\"font-weight: bold\">&gt;</span>\n",
       "    <span style=\"font-weight: bold\">)</span>,\n",
       "    <span style=\"font-weight: bold\">(</span>\n",
       "        <span style=\"font-weight: bold\">&lt;</span><span style=\"color: #ff00ff; text-decoration-color: #ff00ff; font-weight: bold\">NamedNode</span><span style=\"color: #000000; text-decoration-color: #000000\"> </span><span style=\"color: #808000; text-decoration-color: #808000\">value</span><span style=\"color: #000000; text-decoration-color: #000000\">=</span><span style=\"color: #0000ff; text-decoration-color: #0000ff; text-decoration: underline\">https://ISE-FIZKarlsruhe.github.io/vasari_network/property/weight</span><span style=\"font-weight: bold\">&gt;</span>,\n",
       "        <span style=\"font-weight: bold\">&lt;</span><span style=\"color: #ff00ff; text-decoration-color: #ff00ff; font-weight: bold\">Literal</span><span style=\"color: #000000; text-decoration-color: #000000\"> </span><span style=\"color: #808000; text-decoration-color: #808000\">value</span><span style=\"color: #000000; text-decoration-color: #000000\">=</span><span style=\"color: #008080; text-decoration-color: #008080; font-weight: bold\">7.7567945</span><span style=\"color: #000000; text-decoration-color: #000000\"> </span><span style=\"color: #808000; text-decoration-color: #808000\">datatype</span><span style=\"color: #000000; text-decoration-color: #000000\">=&lt;NamedNode </span>\n",
       "<span style=\"color: #808000; text-decoration-color: #808000\">value</span><span style=\"color: #000000; text-decoration-color: #000000\">=</span><span style=\"color: #0000ff; text-decoration-color: #0000ff; text-decoration: underline\">http://www.w3.org/2001/XMLSchema#float</span><span style=\"font-weight: bold\">&gt;</span>&gt;\n",
       "    <span style=\"font-weight: bold\">)</span>\n",
       "<span style=\"font-weight: bold\">]</span>\n",
       "</pre>\n"
      ],
      "text/plain": [
       "\u001b[1m[\u001b[0m\n",
       "    \u001b[1m(\u001b[0m\n",
       "        \u001b[1m<\u001b[0m\u001b[1;95mNamedNode\u001b[0m\u001b[39m \u001b[0m\n",
       "\u001b[33mvalue\u001b[0m\u001b[39m=\u001b[0m\u001b[4;94mhttps\u001b[0m\u001b[4;94m://ISE-FIZKarlsruhe.github.io/vasari_network/property/isEdgeOf\u001b[0m\u001b[1m>\u001b[0m,\n",
       "        \u001b[1m<\u001b[0m\u001b[1;95mNamedNode\u001b[0m\u001b[39m \u001b[0m\u001b[33mvalue\u001b[0m\u001b[39m=\u001b[0m\u001b[4;94mhttps\u001b[0m\u001b[4;94m://ISE-FIZKarlsruhe.github.io/vasari_network/entity/Apelles\u001b[0m\u001b[1m>\u001b[0m\n",
       "    \u001b[1m)\u001b[0m,\n",
       "    \u001b[1m(\u001b[0m\n",
       "        \u001b[1m<\u001b[0m\u001b[1;95mNamedNode\u001b[0m\u001b[39m \u001b[0m\n",
       "\u001b[33mvalue\u001b[0m\u001b[39m=\u001b[0m\u001b[4;94mhttps\u001b[0m\u001b[4;94m://ISE-FIZKarlsruhe.github.io/vasari_network/property/isEdgeOf\u001b[0m\u001b[1m>\u001b[0m,\n",
       "        \u001b[1m<\u001b[0m\u001b[1;95mNamedNode\u001b[0m\u001b[39m \u001b[0m\u001b[33mvalue\u001b[0m\u001b[39m=\u001b[0m\u001b[4;94mhttps\u001b[0m\u001b[4;94m://ISE-FIZKarlsruhe.github.io/vasari_network/entity/Botticelli%\u001b[0m\n",
       "\u001b[4;94m2C%20Sandro%20%28Sandro%20di%20Botticello%2C%20or%20Alessandro%20Filipepi%29\u001b[0m\u001b[1m>\u001b[0m\n",
       "    \u001b[1m)\u001b[0m,\n",
       "    \u001b[1m(\u001b[0m\n",
       "        \u001b[1m<\u001b[0m\u001b[1;95mNamedNode\u001b[0m\u001b[39m \u001b[0m\u001b[33mvalue\u001b[0m\u001b[39m=\u001b[0m\u001b[4;94mhttps\u001b[0m\u001b[4;94m://ISE-FIZKarlsruhe.github.io/vasari_network/property/weight\u001b[0m\u001b[1m>\u001b[0m,\n",
       "        \u001b[1m<\u001b[0m\u001b[1;95mLiteral\u001b[0m\u001b[39m \u001b[0m\u001b[33mvalue\u001b[0m\u001b[39m=\u001b[0m\u001b[1;36m7\u001b[0m\u001b[1;36m.7567945\u001b[0m\u001b[39m \u001b[0m\u001b[33mdatatype\u001b[0m\u001b[39m=<NamedNode \u001b[0m\n",
       "\u001b[33mvalue\u001b[0m\u001b[39m=\u001b[0m\u001b[4;94mhttp\u001b[0m\u001b[4;94m://www.w3.org/2001/XMLSchema#float\u001b[0m\u001b[1m>\u001b[0m>\n",
       "    \u001b[1m)\u001b[0m\n",
       "\u001b[1m]\u001b[0m\n"
      ]
     },
     "metadata": {},
     "output_type": "display_data"
    },
    {
     "data": {
      "text/html": [
       "<pre style=\"white-space:pre;overflow-x:auto;line-height:normal;font-family:Menlo,'DejaVu Sans Mono',consolas,'Courier New',monospace\"><span style=\"font-weight: bold\">[</span>\n",
       "    <span style=\"font-weight: bold\">&lt;</span><span style=\"color: #ff00ff; text-decoration-color: #ff00ff; font-weight: bold\">NamedNode</span><span style=\"color: #000000; text-decoration-color: #000000\"> </span><span style=\"color: #808000; text-decoration-color: #808000\">value</span><span style=\"color: #000000; text-decoration-color: #000000\">=</span><span style=\"color: #0000ff; text-decoration-color: #0000ff; text-decoration: underline\">https://ISE-FIZKarlsruhe.github.io/vasari_network/entity/Apelles</span><span style=\"font-weight: bold\">&gt;</span>,\n",
       "    <span style=\"font-weight: bold\">&lt;</span><span style=\"color: #ff00ff; text-decoration-color: #ff00ff; font-weight: bold\">NamedNode</span><span style=\"color: #000000; text-decoration-color: #000000\"> </span><span style=\"color: #808000; text-decoration-color: #808000\">value</span><span style=\"color: #000000; text-decoration-color: #000000\">=</span><span style=\"color: #0000ff; text-decoration-color: #0000ff; text-decoration: underline\">https://ISE-FIZKarlsruhe.github.io/vasari_network/entity/Botticelli%2C%2</span>\n",
       "<span style=\"color: #0000ff; text-decoration-color: #0000ff; text-decoration: underline\">0Sandro%20%28Sandro%20di%20Botticello%2C%20or%20Alessandro%20Filipepi%29</span><span style=\"font-weight: bold\">&gt;</span>\n",
       "<span style=\"font-weight: bold\">]</span>\n",
       "</pre>\n"
      ],
      "text/plain": [
       "\u001b[1m[\u001b[0m\n",
       "    \u001b[1m<\u001b[0m\u001b[1;95mNamedNode\u001b[0m\u001b[39m \u001b[0m\u001b[33mvalue\u001b[0m\u001b[39m=\u001b[0m\u001b[4;94mhttps\u001b[0m\u001b[4;94m://ISE-FIZKarlsruhe.github.io/vasari_network/entity/Apelles\u001b[0m\u001b[1m>\u001b[0m,\n",
       "    \u001b[1m<\u001b[0m\u001b[1;95mNamedNode\u001b[0m\u001b[39m \u001b[0m\u001b[33mvalue\u001b[0m\u001b[39m=\u001b[0m\u001b[4;94mhttps\u001b[0m\u001b[4;94m://ISE-FIZKarlsruhe.github.io/vasari_network/entity/Botticelli%2C%2\u001b[0m\n",
       "\u001b[4;94m0Sandro%20%28Sandro%20di%20Botticello%2C%20or%20Alessandro%20Filipepi%29\u001b[0m\u001b[1m>\u001b[0m\n",
       "\u001b[1m]\u001b[0m\n"
      ]
     },
     "metadata": {},
     "output_type": "display_data"
    }
   ],
   "source": [
    "x = [(p,o) for s,p,o,_ in store.quads_for_pattern(list(edges.keys())[0], None, None)]\n",
    "print(x)\n",
    "print(list(edges.values())[0])"
   ]
  },
  {
   "cell_type": "code",
   "execution_count": 24,
   "metadata": {},
   "outputs": [],
   "source": [
    "out = px.Store()\n",
    "for s,p,o,_ in store.quads_for_pattern(None, px.NamedNode('https://ISE-FIZKarlsruhe.github.io/vasari_network/property/weight'), None):\n",
    "    edge = edges.get(s)\n",
    "    a, b = edge\n",
    "    t = px.Quad(a, px.NamedNode('https://ISE-FIZKarlsruhe.github.io/vasari_network/link'), b)\n",
    "    out.add(t)\n",
    "    q = px.Quad(t.triple, px.NamedNode('https://ISE-FIZKarlsruhe.github.io/vasari_network/property/weight'), o)\n",
    "    out.add(q)\n",
    "out.dump('vasari-network-rdf-star.nt', 'application/n-triples')"
   ]
  },
  {
   "cell_type": "code",
   "execution_count": 25,
   "metadata": {},
   "outputs": [
    {
     "data": {
      "text/html": [
       "<pre style=\"white-space:pre;overflow-x:auto;line-height:normal;font-family:Menlo,'DejaVu Sans Mono',consolas,'Courier New',monospace\"><span style=\"font-weight: bold\">&lt;</span><span style=\"color: #0000ff; text-decoration-color: #0000ff; text-decoration: underline\">https://ISE-FIZKarlsruhe.github.io/vasari_network/entity/Apelles</span><span style=\"font-weight: bold\">&gt;</span> \n",
       "<span style=\"font-weight: bold\">&lt;</span><span style=\"color: #0000ff; text-decoration-color: #0000ff; text-decoration: underline\">https://ISE-FIZKarlsruhe.github.io/vasari_network/link</span><span style=\"font-weight: bold\">&gt;</span> <span style=\"font-weight: bold\">&lt;</span><span style=\"color: #0000ff; text-decoration-color: #0000ff; text-decoration: underline\">https://ISE-FIZKarlsruhe.github.io/</span>\n",
       "<span style=\"color: #0000ff; text-decoration-color: #0000ff; text-decoration: underline\">vasari_network/entity/Botticelli%2C%20Sandro%20%28Sandro%20di%20Botticello%2C%20or%20Alessand</span>\n",
       "<span style=\"color: #0000ff; text-decoration-color: #0000ff; text-decoration: underline\">ro%20Filipepi%29</span><span style=\"font-weight: bold\">&gt;</span> <span style=\"font-weight: bold\">&lt;</span><span style=\"color: #0000ff; text-decoration-color: #0000ff; text-decoration: underline\">https://ISE-FIZKarlsruhe.github.io/vasari_network/property/weight</span><span style=\"font-weight: bold\">&gt;</span> \n",
       "<span style=\"color: #008000; text-decoration-color: #008000\">\"7.7567945\"</span>^^<span style=\"font-weight: bold\">&lt;</span><span style=\"color: #0000ff; text-decoration-color: #0000ff; text-decoration: underline\">http://www.w3.org/2001/XMLSchema#float</span><span style=\"font-weight: bold\">&gt;</span>\n",
       "</pre>\n"
      ],
      "text/plain": [
       "\u001b[1m<\u001b[0m\u001b[4;94mhttps:\u001b[0m\u001b[4;94m//ISE-FIZKarlsruhe.github.io/vasari_network/entity/Apelles\u001b[0m\u001b[1m>\u001b[0m \n",
       "\u001b[1m<\u001b[0m\u001b[4;94mhttps:\u001b[0m\u001b[4;94m//ISE-FIZKarlsruhe.github.io/vasari_network/link\u001b[0m\u001b[1m>\u001b[0m \u001b[1m<\u001b[0m\u001b[4;94mhttps:\u001b[0m\u001b[4;94m//ISE-FIZKarlsruhe.github.io/\u001b[0m\n",
       "\u001b[4;94mvasari_network/entity/Botticelli%2C%20Sandro%20%28Sandro%20di%20Botticello%2C%20or%20Alessand\u001b[0m\n",
       "\u001b[4;94mro%20Filipepi%29\u001b[0m\u001b[1m>\u001b[0m \u001b[1m<\u001b[0m\u001b[4;94mhttps:\u001b[0m\u001b[4;94m//ISE-FIZKarlsruhe.github.io/vasari_network/property/weight\u001b[0m\u001b[1m>\u001b[0m \n",
       "\u001b[32m\"7.7567945\"\u001b[0m^^\u001b[1m<\u001b[0m\u001b[4;94mhttp:\u001b[0m\u001b[4;94m//www.w3.org/2001/XMLSchema#float\u001b[0m\u001b[1m>\u001b[0m\n"
      ]
     },
     "metadata": {},
     "output_type": "display_data"
    },
    {
     "data": {
      "text/html": [
       "<pre style=\"white-space:pre;overflow-x:auto;line-height:normal;font-family:Menlo,'DejaVu Sans Mono',consolas,'Courier New',monospace\"><span style=\"font-weight: bold\">&lt;</span><span style=\"color: #ff00ff; text-decoration-color: #ff00ff; font-weight: bold\">class</span><span style=\"color: #000000; text-decoration-color: #000000\"> </span><span style=\"color: #008000; text-decoration-color: #008000\">'pyoxigraph.Triple'</span><span style=\"font-weight: bold\">&gt;</span>\n",
       "</pre>\n"
      ],
      "text/plain": [
       "\u001b[1m<\u001b[0m\u001b[1;95mclass\u001b[0m\u001b[39m \u001b[0m\u001b[32m'pyoxigraph.Triple'\u001b[0m\u001b[1m>\u001b[0m\n"
      ]
     },
     "metadata": {},
     "output_type": "display_data"
    }
   ],
   "source": [
    "circled = px.Store()\n",
    "circled.bulk_load('vasari-network-rdf-star.nt', 'application/n-triples')\n",
    "for s,p,o,_ in circled.quads_for_pattern(None, None, None):\n",
    "    if p == px.NamedNode('https://ISE-FIZKarlsruhe.github.io/vasari_network/link'):\n",
    "        continue\n",
    "    print(s,p,o)\n",
    "    print(type(s))\n",
    "    break"
   ]
  }
 ],
 "metadata": {
  "kernelspec": {
   "display_name": "p39",
   "language": "python",
   "name": "python3"
  },
  "language_info": {
   "codemirror_mode": {
    "name": "ipython",
    "version": 3
   },
   "file_extension": ".py",
   "mimetype": "text/x-python",
   "name": "python",
   "nbconvert_exporter": "python",
   "pygments_lexer": "ipython3",
   "version": "3.9.15"
  }
 },
 "nbformat": 4,
 "nbformat_minor": 2
}
