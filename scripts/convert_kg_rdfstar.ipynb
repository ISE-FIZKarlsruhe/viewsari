{
 "cells": [
  {
   "cell_type": "code",
   "execution_count": 12,
   "metadata": {},
   "outputs": [],
   "source": [
    "import pyoxigraph as px\n",
    "from rich import print"
   ]
  },
  {
   "cell_type": "code",
   "execution_count": 5,
   "metadata": {},
   "outputs": [
    {
     "name": "stdout",
     "output_type": "stream",
     "text": [
      "5837\n"
     ]
    }
   ],
   "source": [
    "store = px.Store()\n",
    "store.bulk_load('../data/knowledge-graph/vasari-kg.ttl', 'text/turtle')\n",
    "print(len(store))"
   ]
  },
  {
   "cell_type": "code",
   "execution_count": 8,
   "metadata": {},
   "outputs": [],
   "source": [
    "# Get all the blanknodes that are connected with <https://ISE-FIZKarlsruhe.github.io/vasari_network/property/isEdgeOf>\n",
    "edges = {}\n",
    "for s,p,o,_ in store.quads_for_pattern(None, px.NamedNode('https://ISE-FIZKarlsruhe.github.io/vasari_network/property/isEdgeOf'), None):\n",
    "    edges.setdefault(s, []).append(o)\n",
    "\n"
   ]
  },
  {
   "cell_type": "code",
   "execution_count": 14,
   "metadata": {},
   "outputs": [
    {
     "data": {
      "text/html": [
       "<pre style=\"white-space:pre;overflow-x:auto;line-height:normal;font-family:Menlo,'DejaVu Sans Mono',consolas,'Courier New',monospace\"><span style=\"font-weight: bold\">[</span>\n",
       "    <span style=\"font-weight: bold\">(</span>\n",
       "        <span style=\"font-weight: bold\">&lt;</span><span style=\"color: #ff00ff; text-decoration-color: #ff00ff; font-weight: bold\">NamedNode</span><span style=\"color: #000000; text-decoration-color: #000000\"> </span>\n",
       "<span style=\"color: #808000; text-decoration-color: #808000\">value</span><span style=\"color: #000000; text-decoration-color: #000000\">=</span><span style=\"color: #0000ff; text-decoration-color: #0000ff; text-decoration: underline\">https://ISE-FIZKarlsruhe.github.io/vasari_network/property/isEdgeOf</span><span style=\"font-weight: bold\">&gt;</span>,\n",
       "        <span style=\"font-weight: bold\">&lt;</span><span style=\"color: #ff00ff; text-decoration-color: #ff00ff; font-weight: bold\">NamedNode</span><span style=\"color: #000000; text-decoration-color: #000000\"> </span><span style=\"color: #808000; text-decoration-color: #808000\">value</span><span style=\"color: #000000; text-decoration-color: #000000\">=</span><span style=\"color: #0000ff; text-decoration-color: #0000ff; text-decoration: underline\">https://ISE-FIZKarlsruhe.github.io/vasari_network/entity/Apelles</span><span style=\"font-weight: bold\">&gt;</span>\n",
       "    <span style=\"font-weight: bold\">)</span>,\n",
       "    <span style=\"font-weight: bold\">(</span>\n",
       "        <span style=\"font-weight: bold\">&lt;</span><span style=\"color: #ff00ff; text-decoration-color: #ff00ff; font-weight: bold\">NamedNode</span><span style=\"color: #000000; text-decoration-color: #000000\"> </span>\n",
       "<span style=\"color: #808000; text-decoration-color: #808000\">value</span><span style=\"color: #000000; text-decoration-color: #000000\">=</span><span style=\"color: #0000ff; text-decoration-color: #0000ff; text-decoration: underline\">https://ISE-FIZKarlsruhe.github.io/vasari_network/property/isEdgeOf</span><span style=\"font-weight: bold\">&gt;</span>,\n",
       "        <span style=\"font-weight: bold\">&lt;</span><span style=\"color: #ff00ff; text-decoration-color: #ff00ff; font-weight: bold\">NamedNode</span><span style=\"color: #000000; text-decoration-color: #000000\"> </span><span style=\"color: #808000; text-decoration-color: #808000\">value</span><span style=\"color: #000000; text-decoration-color: #000000\">=</span><span style=\"color: #0000ff; text-decoration-color: #0000ff; text-decoration: underline\">https://ISE-FIZKarlsruhe.github.io/vasari_network/entity/Botticelli%</span>\n",
       "<span style=\"color: #0000ff; text-decoration-color: #0000ff; text-decoration: underline\">2C%20Sandro%20%28Sandro%20di%20Botticello%2C%20or%20Alessandro%20Filipepi%29</span><span style=\"font-weight: bold\">&gt;</span>\n",
       "    <span style=\"font-weight: bold\">)</span>,\n",
       "    <span style=\"font-weight: bold\">(</span>\n",
       "        <span style=\"font-weight: bold\">&lt;</span><span style=\"color: #ff00ff; text-decoration-color: #ff00ff; font-weight: bold\">NamedNode</span><span style=\"color: #000000; text-decoration-color: #000000\"> </span><span style=\"color: #808000; text-decoration-color: #808000\">value</span><span style=\"color: #000000; text-decoration-color: #000000\">=</span><span style=\"color: #0000ff; text-decoration-color: #0000ff; text-decoration: underline\">https://ISE-FIZKarlsruhe.github.io/vasari_network/property/weight</span><span style=\"font-weight: bold\">&gt;</span>,\n",
       "        <span style=\"font-weight: bold\">&lt;</span><span style=\"color: #ff00ff; text-decoration-color: #ff00ff; font-weight: bold\">Literal</span><span style=\"color: #000000; text-decoration-color: #000000\"> </span><span style=\"color: #808000; text-decoration-color: #808000\">value</span><span style=\"color: #000000; text-decoration-color: #000000\">=</span><span style=\"color: #008080; text-decoration-color: #008080; font-weight: bold\">7.7567945</span><span style=\"color: #000000; text-decoration-color: #000000\"> </span><span style=\"color: #808000; text-decoration-color: #808000\">datatype</span><span style=\"color: #000000; text-decoration-color: #000000\">=&lt;NamedNode </span>\n",
       "<span style=\"color: #808000; text-decoration-color: #808000\">value</span><span style=\"color: #000000; text-decoration-color: #000000\">=</span><span style=\"color: #0000ff; text-decoration-color: #0000ff; text-decoration: underline\">http://www.w3.org/2001/XMLSchema#float</span><span style=\"font-weight: bold\">&gt;</span>&gt;\n",
       "    <span style=\"font-weight: bold\">)</span>\n",
       "<span style=\"font-weight: bold\">]</span>\n",
       "</pre>\n"
      ],
      "text/plain": [
       "\u001b[1m[\u001b[0m\n",
       "    \u001b[1m(\u001b[0m\n",
       "        \u001b[1m<\u001b[0m\u001b[1;95mNamedNode\u001b[0m\u001b[39m \u001b[0m\n",
       "\u001b[33mvalue\u001b[0m\u001b[39m=\u001b[0m\u001b[4;94mhttps\u001b[0m\u001b[4;94m://ISE-FIZKarlsruhe.github.io/vasari_network/property/isEdgeOf\u001b[0m\u001b[1m>\u001b[0m,\n",
       "        \u001b[1m<\u001b[0m\u001b[1;95mNamedNode\u001b[0m\u001b[39m \u001b[0m\u001b[33mvalue\u001b[0m\u001b[39m=\u001b[0m\u001b[4;94mhttps\u001b[0m\u001b[4;94m://ISE-FIZKarlsruhe.github.io/vasari_network/entity/Apelles\u001b[0m\u001b[1m>\u001b[0m\n",
       "    \u001b[1m)\u001b[0m,\n",
       "    \u001b[1m(\u001b[0m\n",
       "        \u001b[1m<\u001b[0m\u001b[1;95mNamedNode\u001b[0m\u001b[39m \u001b[0m\n",
       "\u001b[33mvalue\u001b[0m\u001b[39m=\u001b[0m\u001b[4;94mhttps\u001b[0m\u001b[4;94m://ISE-FIZKarlsruhe.github.io/vasari_network/property/isEdgeOf\u001b[0m\u001b[1m>\u001b[0m,\n",
       "        \u001b[1m<\u001b[0m\u001b[1;95mNamedNode\u001b[0m\u001b[39m \u001b[0m\u001b[33mvalue\u001b[0m\u001b[39m=\u001b[0m\u001b[4;94mhttps\u001b[0m\u001b[4;94m://ISE-FIZKarlsruhe.github.io/vasari_network/entity/Botticelli%\u001b[0m\n",
       "\u001b[4;94m2C%20Sandro%20%28Sandro%20di%20Botticello%2C%20or%20Alessandro%20Filipepi%29\u001b[0m\u001b[1m>\u001b[0m\n",
       "    \u001b[1m)\u001b[0m,\n",
       "    \u001b[1m(\u001b[0m\n",
       "        \u001b[1m<\u001b[0m\u001b[1;95mNamedNode\u001b[0m\u001b[39m \u001b[0m\u001b[33mvalue\u001b[0m\u001b[39m=\u001b[0m\u001b[4;94mhttps\u001b[0m\u001b[4;94m://ISE-FIZKarlsruhe.github.io/vasari_network/property/weight\u001b[0m\u001b[1m>\u001b[0m,\n",
       "        \u001b[1m<\u001b[0m\u001b[1;95mLiteral\u001b[0m\u001b[39m \u001b[0m\u001b[33mvalue\u001b[0m\u001b[39m=\u001b[0m\u001b[1;36m7\u001b[0m\u001b[1;36m.7567945\u001b[0m\u001b[39m \u001b[0m\u001b[33mdatatype\u001b[0m\u001b[39m=<NamedNode \u001b[0m\n",
       "\u001b[33mvalue\u001b[0m\u001b[39m=\u001b[0m\u001b[4;94mhttp\u001b[0m\u001b[4;94m://www.w3.org/2001/XMLSchema#float\u001b[0m\u001b[1m>\u001b[0m>\n",
       "    \u001b[1m)\u001b[0m\n",
       "\u001b[1m]\u001b[0m\n"
      ]
     },
     "metadata": {},
     "output_type": "display_data"
    },
    {
     "data": {
      "text/html": [
       "<pre style=\"white-space:pre;overflow-x:auto;line-height:normal;font-family:Menlo,'DejaVu Sans Mono',consolas,'Courier New',monospace\"><span style=\"font-weight: bold\">[</span>\n",
       "    <span style=\"font-weight: bold\">&lt;</span><span style=\"color: #ff00ff; text-decoration-color: #ff00ff; font-weight: bold\">NamedNode</span><span style=\"color: #000000; text-decoration-color: #000000\"> </span><span style=\"color: #808000; text-decoration-color: #808000\">value</span><span style=\"color: #000000; text-decoration-color: #000000\">=</span><span style=\"color: #0000ff; text-decoration-color: #0000ff; text-decoration: underline\">https://ISE-FIZKarlsruhe.github.io/vasari_network/entity/Apelles</span><span style=\"font-weight: bold\">&gt;</span>,\n",
       "    <span style=\"font-weight: bold\">&lt;</span><span style=\"color: #ff00ff; text-decoration-color: #ff00ff; font-weight: bold\">NamedNode</span><span style=\"color: #000000; text-decoration-color: #000000\"> </span><span style=\"color: #808000; text-decoration-color: #808000\">value</span><span style=\"color: #000000; text-decoration-color: #000000\">=</span><span style=\"color: #0000ff; text-decoration-color: #0000ff; text-decoration: underline\">https://ISE-FIZKarlsruhe.github.io/vasari_network/entity/Botticelli%2C%2</span>\n",
       "<span style=\"color: #0000ff; text-decoration-color: #0000ff; text-decoration: underline\">0Sandro%20%28Sandro%20di%20Botticello%2C%20or%20Alessandro%20Filipepi%29</span><span style=\"font-weight: bold\">&gt;</span>\n",
       "<span style=\"font-weight: bold\">]</span>\n",
       "</pre>\n"
      ],
      "text/plain": [
       "\u001b[1m[\u001b[0m\n",
       "    \u001b[1m<\u001b[0m\u001b[1;95mNamedNode\u001b[0m\u001b[39m \u001b[0m\u001b[33mvalue\u001b[0m\u001b[39m=\u001b[0m\u001b[4;94mhttps\u001b[0m\u001b[4;94m://ISE-FIZKarlsruhe.github.io/vasari_network/entity/Apelles\u001b[0m\u001b[1m>\u001b[0m,\n",
       "    \u001b[1m<\u001b[0m\u001b[1;95mNamedNode\u001b[0m\u001b[39m \u001b[0m\u001b[33mvalue\u001b[0m\u001b[39m=\u001b[0m\u001b[4;94mhttps\u001b[0m\u001b[4;94m://ISE-FIZKarlsruhe.github.io/vasari_network/entity/Botticelli%2C%2\u001b[0m\n",
       "\u001b[4;94m0Sandro%20%28Sandro%20di%20Botticello%2C%20or%20Alessandro%20Filipepi%29\u001b[0m\u001b[1m>\u001b[0m\n",
       "\u001b[1m]\u001b[0m\n"
      ]
     },
     "metadata": {},
     "output_type": "display_data"
    }
   ],
   "source": [
    "x = [(p,o) for s,p,o,_ in store.quads_for_pattern(list(edges.keys())[0], None, None)]\n",
    "print(x)\n",
    "print(list(edges.values())[0])"
   ]
  },
  {
   "cell_type": "code",
   "execution_count": 17,
   "metadata": {},
   "outputs": [],
   "source": [
    "out = px.Store()\n",
    "for s,p,o,_ in store.quads_for_pattern(None, px.NamedNode('https://ISE-FIZKarlsruhe.github.io/vasari_network/property/weight'), None):\n",
    "    edge = edges.get(s)\n",
    "    if not edge:\n",
    "        print(s, \"not in edges!\")\n",
    "    a, b = edge\n",
    "    t = px.Quad(a, px.NamedNode('https://ISE-FIZKarlsruhe.github.io/vasari_network/link'), b)\n",
    "    out.add(t)\n",
    "    q = px.Quad(t.triple, px.NamedNode('https://ISE-FIZKarlsruhe.github.io/vasari_network/property/weight'), o)\n",
    "    out.add(q)\n"
   ]
  },
  {
   "cell_type": "code",
   "execution_count": 18,
   "metadata": {},
   "outputs": [
    {
     "ename": "ValueError",
     "evalue": "Not supported MIME type: application-n-triples",
     "output_type": "error",
     "traceback": [
      "\u001b[0;31m---------------------------------------------------------------------------\u001b[0m",
      "\u001b[0;31mValueError\u001b[0m                                Traceback (most recent call last)",
      "\u001b[0;32m/var/folders/xt/bfqmc65923x3plzz0jf9rqt00000gn/T/ipykernel_37373/193485475.py\u001b[0m in \u001b[0;36m<module>\u001b[0;34m\u001b[0m\n\u001b[0;32m----> 1\u001b[0;31m \u001b[0mout\u001b[0m\u001b[0;34m.\u001b[0m\u001b[0mdump\u001b[0m\u001b[0;34m(\u001b[0m\u001b[0;34m'x.nt'\u001b[0m\u001b[0;34m,\u001b[0m \u001b[0;34m'application-n-triples'\u001b[0m\u001b[0;34m)\u001b[0m\u001b[0;34m\u001b[0m\u001b[0;34m\u001b[0m\u001b[0m\n\u001b[0m",
      "\u001b[0;31mValueError\u001b[0m: Not supported MIME type: application-n-triples"
     ]
    }
   ],
   "source": [
    "out.dump('x.nt', 'application/n-triples')"
   ]
  }
 ],
 "metadata": {
  "kernelspec": {
   "display_name": "p39",
   "language": "python",
   "name": "python3"
  },
  "language_info": {
   "codemirror_mode": {
    "name": "ipython",
    "version": 3
   },
   "file_extension": ".py",
   "mimetype": "text/x-python",
   "name": "python",
   "nbconvert_exporter": "python",
   "pygments_lexer": "ipython3",
   "version": "3.9.15"
  }
 },
 "nbformat": 4,
 "nbformat_minor": 2
}
