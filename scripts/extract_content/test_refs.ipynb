{
 "cells": [
  {
   "cell_type": "code",
   "execution_count": 1,
   "metadata": {
    "ExecuteTime": {
     "end_time": "2024-05-15T05:58:33.170999Z",
     "start_time": "2024-05-15T05:58:33.157703Z"
    }
   },
   "outputs": [],
   "source": [
    "import csv, random\n"
   ]
  },
  {
   "cell_type": "code",
   "execution_count": 3,
   "metadata": {
    "ExecuteTime": {
     "end_time": "2024-05-15T05:58:42.070488Z",
     "start_time": "2024-05-15T05:58:42.039845Z"
    }
   },
   "outputs": [],
   "source": [
    "\n",
    "refs = {}\n",
    "for line in csv.reader(open('../../data/references/0_v1.csv')):\n",
    "    try:\n",
    "        page,index_name,position,reference, para = line\n",
    "    except:\n",
    "        continue\n",
    "    refs.setdefault(page, {}).setdefault(index_name, []).append((position, reference, ','.join(line[4:]) ))\n",
    "\n",
    "vols = {\"0\": {}}\n",
    "for line in csv.reader(open('../../data/volumes/0.csv')):\n",
    "    try:\n",
    "        page, para, text = line\n",
    "    except:\n",
    "        continue\n",
    "    vols[\"0\"].setdefault(page, {})[para] = text\n"
   ]
  },
  {
   "cell_type": "code",
   "execution_count": 6,
   "metadata": {
    "ExecuteTime": {
     "end_time": "2024-05-15T05:59:05.160648Z",
     "start_time": "2024-05-15T05:59:05.120962Z"
    }
   },
   "outputs": [
    {
     "ename": "KeyError",
     "evalue": "'1.0'",
     "output_type": "error",
     "traceback": [
      "\u001B[1;31m---------------------------------------------------------------------------\u001B[0m",
      "\u001B[1;31mKeyError\u001B[0m                                  Traceback (most recent call last)",
      "Cell \u001B[1;32mIn[6], line 15\u001B[0m\n\u001B[0;32m     13\u001B[0m     \u001B[38;5;28;01mcontinue\u001B[39;00m\n\u001B[0;32m     14\u001B[0m start, stop \u001B[38;5;241m=\u001B[39m \u001B[38;5;28mmap\u001B[39m(\u001B[38;5;28mint\u001B[39m, pos\u001B[38;5;241m.\u001B[39mstrip(\u001B[38;5;124m\"\u001B[39m\u001B[38;5;124m()\u001B[39m\u001B[38;5;124m\"\u001B[39m)\u001B[38;5;241m.\u001B[39msplit(\u001B[38;5;124m\"\u001B[39m\u001B[38;5;124m,\u001B[39m\u001B[38;5;124m\"\u001B[39m))\n\u001B[1;32m---> 15\u001B[0m a \u001B[38;5;241m=\u001B[39m \u001B[43mvols\u001B[49m\u001B[43m[\u001B[49m\u001B[38;5;124;43m\"\u001B[39;49m\u001B[38;5;124;43m0\u001B[39;49m\u001B[38;5;124;43m\"\u001B[39;49m\u001B[43m]\u001B[49m\u001B[43m[\u001B[49m\u001B[43mpage\u001B[49m\u001B[43m]\u001B[49m\u001B[43m[\u001B[49m\u001B[43mpara\u001B[49m\u001B[43m]\u001B[49m[start:stop]\n\u001B[0;32m     16\u001B[0m \u001B[38;5;28;01mif\u001B[39;00m a \u001B[38;5;241m!=\u001B[39m ref:\n\u001B[0;32m     17\u001B[0m     no_match\u001B[38;5;241m.\u001B[39mappend((\u001B[38;5;28mrepr\u001B[39m(a), ref, page, para, pos, \u001B[38;5;28mlen\u001B[39m(vols[\u001B[38;5;124m\"\u001B[39m\u001B[38;5;124m0\u001B[39m\u001B[38;5;124m\"\u001B[39m][page][para])))\n",
      "\u001B[1;31mKeyError\u001B[0m: '1.0'"
     ]
    }
   ],
   "source": [
    "missing_pages = set()\n",
    "no_match = []\n",
    "for page, index_name in refs.items():\n",
    "    if page == \"page\":\n",
    "        continue\n",
    "    for k, v in index_name.items():        \n",
    "        for pos, ref, para in v:\n",
    "            if len(para) < 1:\n",
    "                print(index_name, repr(page), repr(para))\n",
    "                continue\n",
    "            if page not in vols[\"0\"]:\n",
    "                missing_pages.add(page)\n",
    "                continue\n",
    "            start, stop = map(int, pos.strip(\"()\").split(\",\"))\n",
    "            a = vols[\"0\"][page][para][start:stop]\n",
    "            if a != ref:\n",
    "                no_match.append((repr(a), ref, page, para, pos, len(vols[\"0\"][page][para])))\n"
   ]
  },
  {
   "cell_type": "code",
   "execution_count": 5,
   "metadata": {
    "ExecuteTime": {
     "end_time": "2024-05-15T05:58:56.447734Z",
     "start_time": "2024-05-15T05:58:56.299602Z"
    }
   },
   "outputs": [
    {
     "ename": "ValueError",
     "evalue": "Sample larger than population or is negative",
     "output_type": "error",
     "traceback": [
      "\u001B[1;31m---------------------------------------------------------------------------\u001B[0m",
      "\u001B[1;31mValueError\u001B[0m                                Traceback (most recent call last)",
      "Cell \u001B[1;32mIn[5], line 1\u001B[0m\n\u001B[1;32m----> 1\u001B[0m \u001B[38;5;28;01mfor\u001B[39;00m i \u001B[38;5;129;01min\u001B[39;00m \u001B[43mrandom\u001B[49m\u001B[38;5;241;43m.\u001B[39;49m\u001B[43msample\u001B[49m\u001B[43m(\u001B[49m\u001B[43mno_match\u001B[49m\u001B[43m,\u001B[49m\u001B[43m \u001B[49m\u001B[38;5;241;43m10\u001B[39;49m\u001B[43m)\u001B[49m:\n\u001B[0;32m      2\u001B[0m     \u001B[38;5;28mprint\u001B[39m(i)\n",
      "File \u001B[1;32m~\\AppData\\Local\\Programs\\Python\\Python312\\Lib\\random.py:430\u001B[0m, in \u001B[0;36mRandom.sample\u001B[1;34m(self, population, k, counts)\u001B[0m\n\u001B[0;32m    428\u001B[0m randbelow \u001B[38;5;241m=\u001B[39m \u001B[38;5;28mself\u001B[39m\u001B[38;5;241m.\u001B[39m_randbelow\n\u001B[0;32m    429\u001B[0m \u001B[38;5;28;01mif\u001B[39;00m \u001B[38;5;129;01mnot\u001B[39;00m \u001B[38;5;241m0\u001B[39m \u001B[38;5;241m<\u001B[39m\u001B[38;5;241m=\u001B[39m k \u001B[38;5;241m<\u001B[39m\u001B[38;5;241m=\u001B[39m n:\n\u001B[1;32m--> 430\u001B[0m     \u001B[38;5;28;01mraise\u001B[39;00m \u001B[38;5;167;01mValueError\u001B[39;00m(\u001B[38;5;124m\"\u001B[39m\u001B[38;5;124mSample larger than population or is negative\u001B[39m\u001B[38;5;124m\"\u001B[39m)\n\u001B[0;32m    431\u001B[0m result \u001B[38;5;241m=\u001B[39m [\u001B[38;5;28;01mNone\u001B[39;00m] \u001B[38;5;241m*\u001B[39m k\n\u001B[0;32m    432\u001B[0m setsize \u001B[38;5;241m=\u001B[39m \u001B[38;5;241m21\u001B[39m        \u001B[38;5;66;03m# size of a small set minus size of an empty list\u001B[39;00m\n",
      "\u001B[1;31mValueError\u001B[0m: Sample larger than population or is negative"
     ]
    }
   ],
   "source": [
    "for i in random.sample(no_match, 10):\n",
    "    print(i)"
   ]
  },
  {
   "cell_type": "code",
   "outputs": [],
   "source": [],
   "metadata": {
    "collapsed": false
   }
  }
 ],
 "metadata": {
  "kernelspec": {
   "display_name": "p39",
   "language": "python",
   "name": "python3"
  },
  "language_info": {
   "codemirror_mode": {
    "name": "ipython",
    "version": 3
   },
   "file_extension": ".py",
   "mimetype": "text/x-python",
   "name": "python",
   "nbconvert_exporter": "python",
   "pygments_lexer": "ipython3",
   "version": "3.9.18"
  }
 },
 "nbformat": 4,
 "nbformat_minor": 2
}
