{
 "cells": [
  {
   "cell_type": "code",
   "execution_count": 7,
   "id": "initial_id",
   "metadata": {
    "collapsed": true,
    "ExecuteTime": {
     "end_time": "2024-05-13T08:17:25.742122Z",
     "start_time": "2024-05-13T08:17:25.739551Z"
    }
   },
   "outputs": [],
   "source": [
    "import collections\n",
    "import pprint\n",
    "import re\n",
    "\n",
    "import numpy as np\n",
    "import pandas as pd\n",
    "import requests\n",
    "from bs4 import BeautifulSoup"
   ]
  },
  {
   "cell_type": "code",
   "outputs": [],
   "source": [
    "urls = {\"0\": \"https://www.gutenberg.org/cache/epub/25326/pg25326-images.html\",\n",
    "        \"1\": \"https://www.gutenberg.org/cache/epub/25759/pg25759-images.html\",\n",
    "        \"2\": \"https://www.gutenberg.org/cache/epub/26860/pg26860-images.html\",\n",
    "        \"3\": \"https://www.gutenberg.org/cache/epub/28420/pg28420-images.html\",\n",
    "        \"4\": \"https://www.gutenberg.org/cache/epub/28421/pg28421-images.html\",\n",
    "        \"5\": \"https://www.gutenberg.org/cache/epub/28422/pg28422-images.html\",\n",
    "        \"6\": \"https://www.gutenberg.org/cache/epub/31845/pg31845-images.html\",\n",
    "        \"7\": \"https://www.gutenberg.org/cache/epub/31938/pg31938-images.html\",\n",
    "        \"8\": \"https://www.gutenberg.org/cache/epub/32362/pg32362-images.html\",\n",
    "        \"9\": \"https://www.gutenberg.org/cache/epub/33203/pg33203-images.html\"}"
   ],
   "metadata": {
    "collapsed": false,
    "ExecuteTime": {
     "end_time": "2024-05-13T08:17:26.211008Z",
     "start_time": "2024-05-13T08:17:26.208306Z"
    }
   },
   "id": "80db9af1a87ce165",
   "execution_count": 8
  },
  {
   "cell_type": "code",
   "outputs": [
    {
     "name": "stdout",
     "output_type": "stream",
     "text": [
      "Working on 0.\n",
      "Working on 1.\n",
      "Working on 2.\n",
      "Working on 3.\n",
      "Working on 4.\n",
      "Working on 5.\n",
      "Working on 6.\n",
      "Working on 7.\n",
      "Working on 8.\n",
      "Working on 9.\n"
     ]
    }
   ],
   "source": [
    "page_number_pattern = re.compile(r'(\\[Pg (\\d+)\\])')\n",
    "for url in urls.keys():\n",
    "    print(f\"Working on {url}.\")\n",
    "    response = requests.get(urls[url])\n",
    "    html_content = response.content\n",
    "\n",
    "    soup = BeautifulSoup(html_content, \"html.parser\")\n",
    "\n",
    "    pages_dict = {}\n",
    "    page_data = {}\n",
    "    current_page = None\n",
    "    text_buffer = \"\"\n",
    "    text_buffer_before = \"\"\n",
    "    previous_page = None\n",
    "    paragraph_index = 1\n",
    "\n",
    "    for p in soup.find_all(['p', 'a', 'span']):\n",
    "        if p.name == 'p':\n",
    "            if not p.find_parents(\"div\", class_=\"figcenter\") and not p.find_parents(\"div\", class_=\"footnote\"):\n",
    "                text = p.get_text()\n",
    "            else:\n",
    "                continue\n",
    "        elif p.name == 'a' or p.name == 'span':\n",
    "            if p.parent.get('class') == ['pagenum'] or p.get('class') == ['pagenum']:\n",
    "                text = p.get_text()\n",
    "            else:\n",
    "                continue\n",
    "        text = re.sub(r\"(\\r)?\\n\", \" \", text)\n",
    "        matches = page_number_pattern.findall(text)\n",
    "        #print(f\"We're at {current_page}, with current paragraph {paragraph_index} and matches {matches} and text {text}.\")\n",
    "        if len(matches) == 0 and current_page:\n",
    "            page_data[current_page]['paragraph_ids'].append(paragraph_index)\n",
    "            page_data[current_page]['text'].append(text)\n",
    "            if text != '':\n",
    "                paragraph_index += 1\n",
    "        elif len(list(matches)) >= 1:\n",
    "            if re.fullmatch(r'(\\[Pg \\d+\\])+', text):\n",
    "                for match in matches:\n",
    "                    current_page = match[int(1)]\n",
    "\n",
    "                    if not current_page in page_data.keys():\n",
    "                        page_data[current_page] = {'paragraph_ids': [''], 'text': ['']}\n",
    "\n",
    "            else:\n",
    "                previous_page = current_page\n",
    "                segments = re.split(fr\"\\[Pg [a-z0-9]+\\]\", text)\n",
    "                i = 1\n",
    "                try:\n",
    "                    page_data[previous_page]['paragraph_ids'].append(paragraph_index)\n",
    "                    page_data[previous_page]['text'].append(segments[0])\n",
    "                except KeyError:\n",
    "                    print(f\"Current page is {current_page} and previous page is {previous_page}.\")\n",
    "                    \n",
    "                for match in matches:\n",
    "                    current_page = match[int(1)]\n",
    "\n",
    "                    if not current_page in page_data.keys():\n",
    "                        page_data[current_page] = {'paragraph_ids': [paragraph_index], 'text': [segments[i]]}\n",
    "                    else:\n",
    "                        page_data[current_page]['paragraph_ids'].append(paragraph_index)\n",
    "                        page_data[current_page]['text'].append(segments[i])\n",
    "\n",
    "                    if i < len(list(matches)):\n",
    "                        i += 1\n",
    "\n",
    "                paragraph_index += 1\n",
    "\n",
    "    page_data = {(int(k)): v for (k, v) in page_data.items()}\n",
    "    df = pd.DataFrame.from_dict(page_data).transpose().reset_index().rename(columns={'index': 'page'})\n",
    "    df2 = df.explode(['paragraph_ids', 'text'])\n",
    "    df2 = df2.rename(columns={'paragraph_ids': 'paragraph_id'})\n",
    "    \n",
    "    df2.to_csv(f\"../../data/volumes/{url}.csv\", index=False)"
   ],
   "metadata": {
    "collapsed": false,
    "ExecuteTime": {
     "end_time": "2024-05-13T08:17:45.821056Z",
     "start_time": "2024-05-13T08:17:27.898746Z"
    }
   },
   "id": "de0fc16cd283a5a",
   "execution_count": 9
  },
  {
   "cell_type": "code",
   "outputs": [],
   "source": [],
   "metadata": {
    "collapsed": false
   },
   "id": "e5fa34651f76053f"
  }
 ],
 "metadata": {
  "kernelspec": {
   "display_name": "Python 3",
   "language": "python",
   "name": "python3"
  },
  "language_info": {
   "codemirror_mode": {
    "name": "ipython",
    "version": 2
   },
   "file_extension": ".py",
   "mimetype": "text/x-python",
   "name": "python",
   "nbconvert_exporter": "python",
   "pygments_lexer": "ipython2",
   "version": "2.7.6"
  }
 },
 "nbformat": 4,
 "nbformat_minor": 5
}
