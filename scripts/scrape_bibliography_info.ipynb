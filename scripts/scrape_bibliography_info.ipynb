{
 "cells": [
  {
   "cell_type": "code",
   "execution_count": 5,
   "id": "initial_id",
   "metadata": {
    "collapsed": true,
    "ExecuteTime": {
     "end_time": "2024-04-11T13:10:55.600540Z",
     "start_time": "2024-04-11T13:10:55.598290Z"
    }
   },
   "outputs": [],
   "source": [
    "import requests\n",
    "from bs4 import BeautifulSoup\n",
    "import csv"
   ]
  },
  {
   "cell_type": "code",
   "outputs": [],
   "source": [
    "urls = {\"I\": \"https://www.gutenberg.org/cache/epub/25326/pg25326-images.html\", \"II\": \"https://www.gutenberg.org/cache/epub/25759/pg25759-images.html\", \"III\": \"https://www.gutenberg.org/cache/epub/26860/pg26860-images.html\", \"IV\": \"https://www.gutenberg.org/cache/epub/28420/pg28420-images.html\", \"V\": \"https://www.gutenberg.org/cache/epub/28421/pg28421-images.html\", \"VI\": \"https://www.gutenberg.org/cache/epub/28422/pg28422-images.html\", \"VII\": \"https://www.gutenberg.org/cache/epub/31845/pg31845-images.html\", \"VIII\": \"https://www.gutenberg.org/cache/epub/31938/pg31938-images.html\", \"IX\": \"https://www.gutenberg.org/cache/epub/32362/pg32362-images.html\", \"X\": \"https://www.gutenberg.org/cache/epub/33203/pg33203-images.html\"}"
   ],
   "metadata": {
    "collapsed": false,
    "ExecuteTime": {
     "end_time": "2024-04-11T13:10:56.052155Z",
     "start_time": "2024-04-11T13:10:56.047649Z"
    }
   },
   "id": "3446fc974aa14fa7",
   "execution_count": 6
  },
  {
   "cell_type": "code",
   "outputs": [],
   "source": [
    "# Function to scrape the HTML page and extract page ranges\n",
    "def scrape_and_extract_page_ranges(url, volume):\n",
    "    volume_label = \"CONTENTS_OF_VOLUME_\" + volume\n",
    "    if volume == 'VI':\n",
    "        volume_label = \"CONTENTS_OF_VOLUME_IV\"\n",
    "    if volume == 'X':\n",
    "        volume_label = \"CONTENTS_OF_VOLUME_IX\"\n",
    "    \n",
    "    print(volume_label)\n",
    "    page_ranges = {}\n",
    "    # Send a GET request to the URL\n",
    "    response = requests.get(url)\n",
    "\n",
    "    # Parse the HTML content\n",
    "    soup = BeautifulSoup(response.text, 'html.parser')\n",
    "\n",
    "    # Find all <p> tags\n",
    "    table_elements = soup.find(id=volume_label).findNext('div').find('table').find_all('tr')\n",
    "\n",
    "    # Iterate over rows\n",
    "    for row in table_elements:\n",
    "        # Find all cells in the row\n",
    "        cells = row.find_all(['td', 'th'])\n",
    "        # Extract artist name and page number\n",
    "        if len(cells) >= 2:\n",
    "            if cells[1].get_text().strip().isdigit():\n",
    "                artist_name = cells[0].get_text().strip()\n",
    "                page_number = cells[1].get_text().strip()\n",
    "                # Find next row to get the end page of the range\n",
    "                next_row = row.find_next_sibling('tr')\n",
    "                if next_row:\n",
    "                    next_cells = next_row.find_all(['td', 'th'])\n",
    "                    if len(next_cells) >= 2 and next_cells[1].get_text().strip().isdigit():\n",
    "                        end_page_number = int(next_cells[1].get_text().strip())-1\n",
    "                        page_ranges[artist_name] = f\"{page_number}-{end_page_number}\"\n",
    "            else:\n",
    "                artist_name = cells[0].get_text().strip()\n",
    "                page_number = cells[1].get_text().strip()\n",
    "                page_ranges[artist_name] = f\"{page_number}\"\n",
    "\n",
    "    return page_ranges\n"
   ],
   "metadata": {
    "collapsed": false,
    "ExecuteTime": {
     "end_time": "2024-04-11T13:13:05.922798Z",
     "start_time": "2024-04-11T13:13:05.917200Z"
    }
   },
   "id": "15dd8c03688632fb",
   "execution_count": 15
  },
  {
   "cell_type": "code",
   "outputs": [
    {
     "name": "stdout",
     "output_type": "stream",
     "text": [
      "CONTENTS_OF_VOLUME_I\n",
      "CONTENTS_OF_VOLUME_II\n",
      "CONTENTS_OF_VOLUME_III\n",
      "CONTENTS_OF_VOLUME_IV\n",
      "CONTENTS_OF_VOLUME_V\n",
      "CONTENTS_OF_VOLUME_IV\n",
      "CONTENTS_OF_VOLUME_VII\n",
      "CONTENTS_OF_VOLUME_VIII\n",
      "CONTENTS_OF_VOLUME_IX\n",
      "CONTENTS_OF_VOLUME_IX\n"
     ]
    }
   ],
   "source": [
    "for volume, url in urls.items():\n",
    "    pr = scrape_and_extract_page_ranges(url=url, volume=volume)\n",
    "    \n",
    "    # Write results to CSV\n",
    "    with open('biography_page_ranges_' + volume + '.csv', 'w', newline='') as csvfile:\n",
    "        fieldnames = ['Name', 'Page Range']\n",
    "        writer = csv.DictWriter(csvfile, fieldnames=fieldnames)\n",
    "    \n",
    "        writer.writeheader()\n",
    "        for name, page_range in pr.items():\n",
    "            writer.writerow({'Name': name, 'Page Range': page_range})"
   ],
   "metadata": {
    "collapsed": false,
    "ExecuteTime": {
     "end_time": "2024-04-11T13:13:23.246287Z",
     "start_time": "2024-04-11T13:13:06.683790Z"
    }
   },
   "id": "4368417f9f2be000",
   "execution_count": 16
  }
 ],
 "metadata": {
  "kernelspec": {
   "display_name": "Python 3",
   "language": "python",
   "name": "python3"
  },
  "language_info": {
   "codemirror_mode": {
    "name": "ipython",
    "version": 2
   },
   "file_extension": ".py",
   "mimetype": "text/x-python",
   "name": "python",
   "nbconvert_exporter": "python",
   "pygments_lexer": "ipython2",
   "version": "2.7.6"
  }
 },
 "nbformat": 4,
 "nbformat_minor": 5
}
