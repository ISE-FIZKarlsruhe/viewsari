{
 "cells": [
  {
   "cell_type": "code",
   "execution_count": 49,
   "id": "initial_id",
   "metadata": {
    "collapsed": true,
    "ExecuteTime": {
     "end_time": "2024-05-14T13:22:20.916516Z",
     "start_time": "2024-05-14T13:22:20.909151Z"
    }
   },
   "outputs": [],
   "source": [
    "import csv\n",
    "import glob\n",
    "import sys\n",
    "import re\n",
    "from pathlib import Path\n",
    "\n",
    "import numpy as np\n",
    "import pandas as pd"
   ]
  },
  {
   "cell_type": "code",
   "outputs": [
    {
     "name": "stdout",
     "output_type": "stream",
     "text": [
      "Working on ../volumes/0.csv.\n",
      "0\n"
     ]
    },
    {
     "ename": "NameError",
     "evalue": "name 'model' is not defined",
     "output_type": "error",
     "traceback": [
      "\u001B[1;31m---------------------------------------------------------------------------\u001B[0m",
      "\u001B[1;31mNameError\u001B[0m                                 Traceback (most recent call last)",
      "Cell \u001B[1;32mIn[50], line 66\u001B[0m\n\u001B[0;32m     62\u001B[0m             writer\u001B[38;5;241m.\u001B[39mwriterow([\u001B[38;5;124m\"\u001B[39m\u001B[38;5;124mpage\u001B[39m\u001B[38;5;124m\"\u001B[39m, \u001B[38;5;124m\"\u001B[39m\u001B[38;5;124mindex_name\u001B[39m\u001B[38;5;124m\"\u001B[39m, \u001B[38;5;124m\"\u001B[39m\u001B[38;5;124mposition\u001B[39m\u001B[38;5;124m\"\u001B[39m, \u001B[38;5;124m\"\u001B[39m\u001B[38;5;124mreference\u001B[39m\u001B[38;5;124m\"\u001B[39m, \u001B[38;5;124m\"\u001B[39m\u001B[38;5;124mparagraph\u001B[39m\u001B[38;5;124m\"\u001B[39m])\n\u001B[0;32m     63\u001B[0m             writer\u001B[38;5;241m.\u001B[39mwriterows(output)\n\u001B[1;32m---> 66\u001B[0m \u001B[43mmain\u001B[49m\u001B[43m(\u001B[49m\u001B[43m)\u001B[49m\n",
      "Cell \u001B[1;32mIn[50], line 22\u001B[0m, in \u001B[0;36mmain\u001B[1;34m()\u001B[0m\n\u001B[0;32m     18\u001B[0m     \u001B[38;5;28;01mcontinue\u001B[39;00m\n\u001B[0;32m     20\u001B[0m names_on_page \u001B[38;5;241m=\u001B[39m [name \u001B[38;5;28;01mfor\u001B[39;00m name \u001B[38;5;129;01min\u001B[39;00m names_data \u001B[38;5;28;01mif\u001B[39;00m \u001B[38;5;28mstr\u001B[39m(page_num) \u001B[38;5;129;01min\u001B[39;00m name[\u001B[38;5;124m\"\u001B[39m\u001B[38;5;124mpages\u001B[39m\u001B[38;5;124m\"\u001B[39m]\u001B[38;5;241m.\u001B[39msplit(\u001B[38;5;124m\"\u001B[39m\u001B[38;5;124m \u001B[39m\u001B[38;5;124m\"\u001B[39m)]\n\u001B[1;32m---> 22\u001B[0m preds \u001B[38;5;241m=\u001B[39m \u001B[43mmodel\u001B[49m\u001B[38;5;241m.\u001B[39mpredict(page_text)\n\u001B[0;32m     23\u001B[0m \u001B[38;5;28;01mif\u001B[39;00m \u001B[38;5;28mlen\u001B[39m(preds) \u001B[38;5;241m>\u001B[39m \u001B[38;5;241m0\u001B[39m:\n\u001B[0;32m     24\u001B[0m     characters \u001B[38;5;241m=\u001B[39m preds[\u001B[38;5;241m0\u001B[39m]\u001B[38;5;241m.\u001B[39mget_clusters(as_strings\u001B[38;5;241m=\u001B[39m\u001B[38;5;28;01mFalse\u001B[39;00m)\n",
      "\u001B[1;31mNameError\u001B[0m: name 'model' is not defined"
     ]
    }
   ],
   "source": [
    "def main():\n",
    "    for file_name in glob.glob(\"../volumes/0.csv\"):\n",
    "        print(f\"Working on {file_name}.\")\n",
    "        print(Path(file_name).stem)\n",
    "        file_num = re.match(r\".*?(\\d+).*?\", file_name).group(1)\n",
    "        text_data = pd.read_csv(file_name)\n",
    "        output = []\n",
    "\n",
    "        with open(f\"../indices_parsed/{file_num}.csv\", \"r\") as f:\n",
    "            names_data = csv.DictReader(f)\n",
    "            names_data = list(names_data)\n",
    "\n",
    "        for index, row in text_data.iterrows():\n",
    "            page_num = row['page']\n",
    "            paragraph_num = row['paragraph_id']\n",
    "            page_text = row['text']\n",
    "            if pd.isna(page_text):\n",
    "                continue\n",
    "                \n",
    "            names_on_page = [name for name in names_data if str(page_num) in name[\"pages\"].split(\" \")]\n",
    "\n",
    "            preds = model.predict(page_text)\n",
    "            if len(preds) > 0:\n",
    "                characters = preds[0].get_clusters(as_strings=False)\n",
    "                clusters = preds[0].get_clusters()\n",
    "                for surfaces, char_pos in zip(clusters, characters):\n",
    "                    references = [surface.lower() for surface in surfaces]\n",
    "                    name_id = []\n",
    "                    max_matches = 0\n",
    "                    max_tokens_matched = 0\n",
    "                    for name in names_on_page:\n",
    "                        num_matches = 0\n",
    "                        num_tokens_matched = 0\n",
    "                        name_var = [name[\"first_name\"].lower(), name[\"surname\"].lower(), name[\"full_name\"].lower()]\n",
    "                        name_var.extend(name[\"alias\"].lower().split(\", \"))\n",
    "                        name_var = set([name for name in name_var if len(name) > 0])\n",
    "                        if len(name_var.intersection(set(references))) > 0:\n",
    "                            for variant in name_var:\n",
    "                                if variant in references:\n",
    "                                    num_matches += len([x for x in references if x == variant])\n",
    "                                    if len(variant.split(\" \")) > num_tokens_matched:\n",
    "                                        num_tokens_matched = len(variant.split(\" \"))\n",
    "                            if num_matches > max_matches:\n",
    "                                name_id = [name[\"id\"]]\n",
    "                                max_matches = num_matches\n",
    "                                max_tokens_matched = num_tokens_matched\n",
    "                            elif num_matches == max_matches and num_tokens_matched > max_tokens_matched:\n",
    "                                name_id = [name[\"id\"]]\n",
    "                                max_tokens_matched = num_tokens_matched\n",
    "                            elif num_matches == max_matches:\n",
    "                                name_id.append(name[\"id\"])\n",
    "                    if len(name_id) > 0:\n",
    "                        text_length = 0\n",
    "                        name_id = \"|\".join(name_id)\n",
    "                        for i in range(len(surfaces)):\n",
    "                            curr_paragraph = paragraph_num\n",
    "                            print(f\"Current paragraph: {curr_paragraph}.\")\n",
    "                            output.append([page_num, name_id, char_pos[i], surfaces[i], curr_paragraph])\n",
    "    \n",
    "        with open(f\"../../data/references/{Path(file_name).stem}_v1.csv\", \"w\", encoding=\"utf-8\") as file:\n",
    "            writer = csv.writer(file, delimiter=\",\")\n",
    "            writer.writerow([\"page\", \"index_name\", \"position\", \"reference\", \"paragraph\"])\n",
    "            writer.writerows(output)\n",
    "\n",
    "\n",
    "main()\n"
   ],
   "metadata": {
    "collapsed": false,
    "ExecuteTime": {
     "end_time": "2024-05-14T13:22:21.805732Z",
     "start_time": "2024-05-14T13:22:21.706527Z"
    }
   },
   "id": "53fcae413622ad19",
   "execution_count": 50
  },
  {
   "cell_type": "code",
   "outputs": [],
   "source": [
    "with open('../biographies/ranges/biography_page_ranges_II.csv', 'r', encoding='cp1252') as inp,\\\n",
    "        open('../biographies/ranges/biography_page_ranges_II.csv', 'w', encoding='utf-8') as outp:\n",
    "    for line in inp:\n",
    "        print(line)\n",
    "        outp.write(line)"
   ],
   "metadata": {
    "collapsed": false,
    "ExecuteTime": {
     "end_time": "2024-05-15T10:06:08.919089Z",
     "start_time": "2024-05-15T10:06:08.915414Z"
    }
   },
   "id": "6bc3507c24d09fb2",
   "execution_count": 4
  },
  {
   "cell_type": "code",
   "outputs": [],
   "source": [],
   "metadata": {
    "collapsed": false
   },
   "id": "a9e9e06310db53cf"
  }
 ],
 "metadata": {
  "kernelspec": {
   "display_name": "Python 3",
   "language": "python",
   "name": "python3"
  },
  "language_info": {
   "codemirror_mode": {
    "name": "ipython",
    "version": 2
   },
   "file_extension": ".py",
   "mimetype": "text/x-python",
   "name": "python",
   "nbconvert_exporter": "python",
   "pygments_lexer": "ipython2",
   "version": "2.7.6"
  }
 },
 "nbformat": 4,
 "nbformat_minor": 5
}
