{
 "cells": [
  {
   "cell_type": "code",
   "execution_count": 94,
   "metadata": {},
   "outputs": [],
   "source": [
    "import csv, random\n"
   ]
  },
  {
   "cell_type": "code",
   "execution_count": 62,
   "metadata": {},
   "outputs": [],
   "source": [
    "\n",
    "refs = {}\n",
    "for line in csv.reader(open('data/references/0.csv')):\n",
    "    try:\n",
    "        page,index_name,position,reference, para = line\n",
    "    except:\n",
    "        continue\n",
    "    refs.setdefault(page, {}).setdefault(index_name, []).append((position, reference, ','.join(line[4:]) ))\n",
    "\n",
    "vols = {\"0\": {}}\n",
    "for line in csv.reader(open('data/volumes/0.csv')):\n",
    "    try:\n",
    "        page, para, text = line\n",
    "    except:\n",
    "        continue\n",
    "    vols[\"0\"].setdefault(page, {})[para] = text\n"
   ]
  },
  {
   "cell_type": "code",
   "execution_count": 92,
   "metadata": {},
   "outputs": [],
   "source": [
    "missing_pages = set()\n",
    "no_match = []\n",
    "for page, index_name in refs.items():\n",
    "    if page == \"page\":\n",
    "        continue\n",
    "    for k, v in index_name.items():        \n",
    "        for pos, ref, para in v:\n",
    "            if len(para) < 1:\n",
    "                print(index_name, repr(page), repr(para))\n",
    "                continue\n",
    "            if page not in vols[\"0\"]:\n",
    "                missing_pages.add(page)\n",
    "                continue\n",
    "            start, stop = map(int, pos.strip(\"()\").split(\",\"))\n",
    "            a = vols[\"0\"][page][para][start:stop]\n",
    "            if a != ref:\n",
    "                no_match.append((repr(a), ref, page, para, pos, len(vols[\"0\"][page][para])))\n"
   ]
  },
  {
   "cell_type": "code",
   "execution_count": 97,
   "metadata": {},
   "outputs": [
    {
     "name": "stdout",
     "output_type": "stream",
     "text": [
      "(\"''\", 'he', '156', '307', '(3548, 3550)', 2384)\n",
      "(\"''\", 'he', '174', '339', '(1028, 1030)', 627)\n",
      "(\"''\", 'Giovanni', '43', '148', '(1188, 1196)', 38)\n",
      "(\"''\", 'Andrea', '128', '269', '(4468, 4474)', 3300)\n",
      "(\"''\", 'Giotto', '92', '214', '(2348, 2354)', 1009)\n",
      "(\"''\", 'Andrea', '126', '267', '(4048, 4054)', 3653)\n",
      "(\"''\", 'his', '111', '246', '(1208, 1211)', 881)\n",
      "(\"''\", 'he', '148', '298', '(2431, 2433)', 2111)\n",
      "(\"''\", 'Giotto', '222', '412', '(3338, 3344)', 2961)\n",
      "(\"''\", 'Cimabue', '8', '81', '(3401, 3408)', 1936)\n"
     ]
    }
   ],
   "source": [
    "for i in random.sample(no_match, 10):\n",
    "    print(i)"
   ]
  }
 ],
 "metadata": {
  "kernelspec": {
   "display_name": "p39",
   "language": "python",
   "name": "python3"
  },
  "language_info": {
   "codemirror_mode": {
    "name": "ipython",
    "version": 3
   },
   "file_extension": ".py",
   "mimetype": "text/x-python",
   "name": "python",
   "nbconvert_exporter": "python",
   "pygments_lexer": "ipython3",
   "version": "3.9.18"
  }
 },
 "nbformat": 4,
 "nbformat_minor": 2
}
